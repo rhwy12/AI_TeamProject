{
  "nbformat": 4,
  "nbformat_minor": 0,
  "metadata": {
    "colab": {
      "name": "AI3.ipynb",
      "provenance": [],
      "collapsed_sections": [],
      "authorship_tag": "ABX9TyNTgC6xISs1s/TRQ209GsFp",
      "include_colab_link": true
    },
    "kernelspec": {
      "name": "python3",
      "display_name": "Python 3"
    },
    "language_info": {
      "name": "python"
    }
  },
  "cells": [
    {
      "cell_type": "markdown",
      "metadata": {
        "id": "view-in-github",
        "colab_type": "text"
      },
      "source": [
        "<a href=\"https://colab.research.google.com/github/rhwy12/AI_TeamProject/blob/main/AI3.ipynb\" target=\"_parent\"><img src=\"https://colab.research.google.com/assets/colab-badge.svg\" alt=\"Open In Colab\"/></a>"
      ]
    },
    {
      "cell_type": "markdown",
      "source": [
        "데이터 (FinanceDataReader)\n",
        "\n",
        "FinanceDataReader는 주가 데이터를 편리하게 가져올 수 있는 파이썬 패키지입니다."
      ],
      "metadata": {
        "id": "9LbvjAdu3aE2"
      }
    },
    {
      "cell_type": "code",
      "execution_count": 1,
      "metadata": {
        "id": "cpWYdp8_3QAT",
        "colab": {
          "base_uri": "https://localhost:8080/"
        },
        "outputId": "693f150b-7b32-4c38-f68d-0c65f049bfe3"
      },
      "outputs": [
        {
          "output_type": "stream",
          "name": "stdout",
          "text": [
            "Looking in indexes: https://pypi.org/simple, https://us-python.pkg.dev/colab-wheels/public/simple/\n",
            "Collecting finance-datareader\n",
            "  Downloading finance_datareader-0.9.33-py3-none-any.whl (48 kB)\n",
            "\u001b[K     |████████████████████████████████| 48 kB 1.6 MB/s \n",
            "\u001b[?25hRequirement already satisfied: requests>=2.3.0 in /usr/local/lib/python3.7/dist-packages (from finance-datareader) (2.23.0)\n",
            "Requirement already satisfied: tqdm in /usr/local/lib/python3.7/dist-packages (from finance-datareader) (4.64.0)\n",
            "Collecting requests-file\n",
            "  Downloading requests_file-1.5.1-py2.py3-none-any.whl (3.7 kB)\n",
            "Requirement already satisfied: pandas>=0.19.2 in /usr/local/lib/python3.7/dist-packages (from finance-datareader) (1.3.5)\n",
            "Requirement already satisfied: lxml in /usr/local/lib/python3.7/dist-packages (from finance-datareader) (4.2.6)\n",
            "Requirement already satisfied: pytz>=2017.3 in /usr/local/lib/python3.7/dist-packages (from pandas>=0.19.2->finance-datareader) (2022.1)\n",
            "Requirement already satisfied: python-dateutil>=2.7.3 in /usr/local/lib/python3.7/dist-packages (from pandas>=0.19.2->finance-datareader) (2.8.2)\n",
            "Requirement already satisfied: numpy>=1.17.3 in /usr/local/lib/python3.7/dist-packages (from pandas>=0.19.2->finance-datareader) (1.21.6)\n",
            "Requirement already satisfied: six>=1.5 in /usr/local/lib/python3.7/dist-packages (from python-dateutil>=2.7.3->pandas>=0.19.2->finance-datareader) (1.15.0)\n",
            "Requirement already satisfied: idna<3,>=2.5 in /usr/local/lib/python3.7/dist-packages (from requests>=2.3.0->finance-datareader) (2.10)\n",
            "Requirement already satisfied: certifi>=2017.4.17 in /usr/local/lib/python3.7/dist-packages (from requests>=2.3.0->finance-datareader) (2022.5.18.1)\n",
            "Requirement already satisfied: chardet<4,>=3.0.2 in /usr/local/lib/python3.7/dist-packages (from requests>=2.3.0->finance-datareader) (3.0.4)\n",
            "Requirement already satisfied: urllib3!=1.25.0,!=1.25.1,<1.26,>=1.21.1 in /usr/local/lib/python3.7/dist-packages (from requests>=2.3.0->finance-datareader) (1.24.3)\n",
            "Installing collected packages: requests-file, finance-datareader\n",
            "Successfully installed finance-datareader-0.9.33 requests-file-1.5.1\n"
          ]
        }
      ],
      "source": [
        "pip install finance-datareader"
      ]
    },
    {
      "cell_type": "code",
      "source": [
        "import FinanceDataReader as fdr\n",
        "import pandas as pd\n",
        "import numpy as np\n",
        "import matplotlib.pyplot as plt\n",
        "import seaborn as sns\n",
        "import warnings\n",
        "import os\n",
        "\n",
        "%matplotlib inline\n",
        "warnings.filterwarnings('ignore')\n",
        "\n",
        "plt.rcParams['font.family'] = 'NanumGothic'"
      ],
      "metadata": {
        "id": "gQKs0kSB3e5Q"
      },
      "execution_count": 23,
      "outputs": []
    },
    {
      "cell_type": "markdown",
      "source": [
        "고유 주식코드를 입력하여 주가데이터를 가져와서 예측해 보도록 하겠습니다."
      ],
      "metadata": {
        "id": "Vu0B2KZR5SW8"
      }
    },
    {
      "cell_type": "code",
      "source": [
        "STOCK_CODE = '217620'"
      ],
      "metadata": {
        "id": "BAK3Bae05QS7"
      },
      "execution_count": 24,
      "outputs": []
    },
    {
      "cell_type": "code",
      "source": [
        "stock = fdr.DataReader(STOCK_CODE)"
      ],
      "metadata": {
        "id": "_qO_8FSL5yoW"
      },
      "execution_count": 25,
      "outputs": []
    },
    {
      "cell_type": "markdown",
      "source": [
        "매우 편리하게 삼성전자 주가 데이터를 DataFrame형식으로 받아옵니다.\n",
        "\n",
        "기본 오름차순 정렬이 된 데이터임을 알 수 있습니다.\n",
        "\n",
        "컬럼 설명\n",
        "\n",
        "Open: 시가\n",
        "\n",
        "High: 고가\n",
        "\n",
        "Low: 저가\n",
        "\n",
        "Close: 종가\n",
        "\n",
        "Volume: 거래량\n",
        "\n",
        "Change: 대비"
      ],
      "metadata": {
        "id": "weIbfSS_3tDk"
      }
    },
    {
      "cell_type": "code",
      "source": [
        "stock.tail()"
      ],
      "metadata": {
        "colab": {
          "base_uri": "https://localhost:8080/",
          "height": 238
        },
        "id": "Ui_BXEwk52e-",
        "outputId": "a60b955d-a3cb-4045-b674-96588a1328f0"
      },
      "execution_count": 26,
      "outputs": [
        {
          "output_type": "execute_result",
          "data": {
            "text/plain": [
              "            Open  High   Low  Close  Volume    Change\n",
              "Date                                                 \n",
              "2022-06-03  1270  1365  1270   1345  237276  0.050781\n",
              "2022-06-07  1330  1470  1330   1420  721786  0.055762\n",
              "2022-06-08  1405  1535  1385   1520  766448  0.070423\n",
              "2022-06-09  1550  1620  1465   1465  666966 -0.036184\n",
              "2022-06-10  1505  1505  1435   1470  122844  0.003413"
            ],
            "text/html": [
              "\n",
              "  <div id=\"df-105c9704-74a6-4fe5-a112-672e79fefba9\">\n",
              "    <div class=\"colab-df-container\">\n",
              "      <div>\n",
              "<style scoped>\n",
              "    .dataframe tbody tr th:only-of-type {\n",
              "        vertical-align: middle;\n",
              "    }\n",
              "\n",
              "    .dataframe tbody tr th {\n",
              "        vertical-align: top;\n",
              "    }\n",
              "\n",
              "    .dataframe thead th {\n",
              "        text-align: right;\n",
              "    }\n",
              "</style>\n",
              "<table border=\"1\" class=\"dataframe\">\n",
              "  <thead>\n",
              "    <tr style=\"text-align: right;\">\n",
              "      <th></th>\n",
              "      <th>Open</th>\n",
              "      <th>High</th>\n",
              "      <th>Low</th>\n",
              "      <th>Close</th>\n",
              "      <th>Volume</th>\n",
              "      <th>Change</th>\n",
              "    </tr>\n",
              "    <tr>\n",
              "      <th>Date</th>\n",
              "      <th></th>\n",
              "      <th></th>\n",
              "      <th></th>\n",
              "      <th></th>\n",
              "      <th></th>\n",
              "      <th></th>\n",
              "    </tr>\n",
              "  </thead>\n",
              "  <tbody>\n",
              "    <tr>\n",
              "      <th>2022-06-03</th>\n",
              "      <td>1270</td>\n",
              "      <td>1365</td>\n",
              "      <td>1270</td>\n",
              "      <td>1345</td>\n",
              "      <td>237276</td>\n",
              "      <td>0.050781</td>\n",
              "    </tr>\n",
              "    <tr>\n",
              "      <th>2022-06-07</th>\n",
              "      <td>1330</td>\n",
              "      <td>1470</td>\n",
              "      <td>1330</td>\n",
              "      <td>1420</td>\n",
              "      <td>721786</td>\n",
              "      <td>0.055762</td>\n",
              "    </tr>\n",
              "    <tr>\n",
              "      <th>2022-06-08</th>\n",
              "      <td>1405</td>\n",
              "      <td>1535</td>\n",
              "      <td>1385</td>\n",
              "      <td>1520</td>\n",
              "      <td>766448</td>\n",
              "      <td>0.070423</td>\n",
              "    </tr>\n",
              "    <tr>\n",
              "      <th>2022-06-09</th>\n",
              "      <td>1550</td>\n",
              "      <td>1620</td>\n",
              "      <td>1465</td>\n",
              "      <td>1465</td>\n",
              "      <td>666966</td>\n",
              "      <td>-0.036184</td>\n",
              "    </tr>\n",
              "    <tr>\n",
              "      <th>2022-06-10</th>\n",
              "      <td>1505</td>\n",
              "      <td>1505</td>\n",
              "      <td>1435</td>\n",
              "      <td>1470</td>\n",
              "      <td>122844</td>\n",
              "      <td>0.003413</td>\n",
              "    </tr>\n",
              "  </tbody>\n",
              "</table>\n",
              "</div>\n",
              "      <button class=\"colab-df-convert\" onclick=\"convertToInteractive('df-105c9704-74a6-4fe5-a112-672e79fefba9')\"\n",
              "              title=\"Convert this dataframe to an interactive table.\"\n",
              "              style=\"display:none;\">\n",
              "        \n",
              "  <svg xmlns=\"http://www.w3.org/2000/svg\" height=\"24px\"viewBox=\"0 0 24 24\"\n",
              "       width=\"24px\">\n",
              "    <path d=\"M0 0h24v24H0V0z\" fill=\"none\"/>\n",
              "    <path d=\"M18.56 5.44l.94 2.06.94-2.06 2.06-.94-2.06-.94-.94-2.06-.94 2.06-2.06.94zm-11 1L8.5 8.5l.94-2.06 2.06-.94-2.06-.94L8.5 2.5l-.94 2.06-2.06.94zm10 10l.94 2.06.94-2.06 2.06-.94-2.06-.94-.94-2.06-.94 2.06-2.06.94z\"/><path d=\"M17.41 7.96l-1.37-1.37c-.4-.4-.92-.59-1.43-.59-.52 0-1.04.2-1.43.59L10.3 9.45l-7.72 7.72c-.78.78-.78 2.05 0 2.83L4 21.41c.39.39.9.59 1.41.59.51 0 1.02-.2 1.41-.59l7.78-7.78 2.81-2.81c.8-.78.8-2.07 0-2.86zM5.41 20L4 18.59l7.72-7.72 1.47 1.35L5.41 20z\"/>\n",
              "  </svg>\n",
              "      </button>\n",
              "      \n",
              "  <style>\n",
              "    .colab-df-container {\n",
              "      display:flex;\n",
              "      flex-wrap:wrap;\n",
              "      gap: 12px;\n",
              "    }\n",
              "\n",
              "    .colab-df-convert {\n",
              "      background-color: #E8F0FE;\n",
              "      border: none;\n",
              "      border-radius: 50%;\n",
              "      cursor: pointer;\n",
              "      display: none;\n",
              "      fill: #1967D2;\n",
              "      height: 32px;\n",
              "      padding: 0 0 0 0;\n",
              "      width: 32px;\n",
              "    }\n",
              "\n",
              "    .colab-df-convert:hover {\n",
              "      background-color: #E2EBFA;\n",
              "      box-shadow: 0px 1px 2px rgba(60, 64, 67, 0.3), 0px 1px 3px 1px rgba(60, 64, 67, 0.15);\n",
              "      fill: #174EA6;\n",
              "    }\n",
              "\n",
              "    [theme=dark] .colab-df-convert {\n",
              "      background-color: #3B4455;\n",
              "      fill: #D2E3FC;\n",
              "    }\n",
              "\n",
              "    [theme=dark] .colab-df-convert:hover {\n",
              "      background-color: #434B5C;\n",
              "      box-shadow: 0px 1px 3px 1px rgba(0, 0, 0, 0.15);\n",
              "      filter: drop-shadow(0px 1px 2px rgba(0, 0, 0, 0.3));\n",
              "      fill: #FFFFFF;\n",
              "    }\n",
              "  </style>\n",
              "\n",
              "      <script>\n",
              "        const buttonEl =\n",
              "          document.querySelector('#df-105c9704-74a6-4fe5-a112-672e79fefba9 button.colab-df-convert');\n",
              "        buttonEl.style.display =\n",
              "          google.colab.kernel.accessAllowed ? 'block' : 'none';\n",
              "\n",
              "        async function convertToInteractive(key) {\n",
              "          const element = document.querySelector('#df-105c9704-74a6-4fe5-a112-672e79fefba9');\n",
              "          const dataTable =\n",
              "            await google.colab.kernel.invokeFunction('convertToInteractive',\n",
              "                                                     [key], {});\n",
              "          if (!dataTable) return;\n",
              "\n",
              "          const docLinkHtml = 'Like what you see? Visit the ' +\n",
              "            '<a target=\"_blank\" href=https://colab.research.google.com/notebooks/data_table.ipynb>data table notebook</a>'\n",
              "            + ' to learn more about interactive tables.';\n",
              "          element.innerHTML = '';\n",
              "          dataTable['output_type'] = 'display_data';\n",
              "          await google.colab.output.renderOutput(dataTable, element);\n",
              "          const docLink = document.createElement('div');\n",
              "          docLink.innerHTML = docLinkHtml;\n",
              "          element.appendChild(docLink);\n",
              "        }\n",
              "      </script>\n",
              "    </div>\n",
              "  </div>\n",
              "  "
            ]
          },
          "metadata": {},
          "execution_count": 26
        }
      ]
    },
    {
      "cell_type": "code",
      "source": [
        "stock.index"
      ],
      "metadata": {
        "colab": {
          "base_uri": "https://localhost:8080/"
        },
        "id": "h16HwXcI59uU",
        "outputId": "9ffcb028-b598-4782-c436-4db3f180edd9"
      },
      "execution_count": 27,
      "outputs": [
        {
          "output_type": "execute_result",
          "data": {
            "text/plain": [
              "DatetimeIndex(['2015-06-10', '2015-06-11', '2015-06-12', '2015-06-15',\n",
              "               '2015-06-16', '2015-06-17', '2015-06-18', '2015-06-19',\n",
              "               '2015-06-22', '2015-06-23',\n",
              "               ...\n",
              "               '2022-05-26', '2022-05-27', '2022-05-30', '2022-05-31',\n",
              "               '2022-06-02', '2022-06-03', '2022-06-07', '2022-06-08',\n",
              "               '2022-06-09', '2022-06-10'],\n",
              "              dtype='datetime64[ns]', name='Date', length=1723, freq=None)"
            ]
          },
          "metadata": {},
          "execution_count": 27
        }
      ]
    },
    {
      "cell_type": "markdown",
      "source": [
        "## 시각화"
      ],
      "metadata": {
        "id": "D7oPW9NN5-qQ"
      }
    },
    {
      "cell_type": "code",
      "source": [
        "plt.figure(figsize=(16, 9))\n",
        "sns.lineplot(y=stock['Close'], x=stock.index)\n",
        "plt.xlabel('time')\n",
        "plt.ylabel('price')"
      ],
      "metadata": {
        "colab": {
          "base_uri": "https://localhost:8080/",
          "height": 569
        },
        "id": "luk-65j66MqY",
        "outputId": "8e84f566-dcfd-4311-8230-ebdc49253ff7"
      },
      "execution_count": 28,
      "outputs": [
        {
          "output_type": "execute_result",
          "data": {
            "text/plain": [
              "Text(0, 0.5, 'price')"
            ]
          },
          "metadata": {},
          "execution_count": 28
        },
        {
          "output_type": "display_data",
          "data": {
            "text/plain": [
              "<Figure size 1152x648 with 1 Axes>"
            ],
            "image/png": "[encoded data removed]"
          },
          "metadata": {
            "needs_background": "light"
          }
        }
      ]
    },
    {
      "cell_type": "code",
      "source": [
        "time_steps = [['1990', '2000'], \n",
        "              ['2000', '2010'], \n",
        "              ['2010', '2015'], \n",
        "              ['2015', '2022']]\n",
        "\n",
        "fig, axes = plt.subplots(2, 2)\n",
        "fig.set_size_inches(16, 9)\n",
        "for i in range(4):\n",
        "    ax = axes[i//2, i%2]\n",
        "    df = stock.loc[(stock.index > time_steps[i][0]) & (stock.index < time_steps[i][1])]\n",
        "    sns.lineplot(y=df['Close'], x=df.index, ax=ax)\n",
        "    ax.set_title(f'{time_steps[i][0]}~{time_steps[i][1]}')\n",
        "    ax.set_xlabel('time')\n",
        "    ax.set_ylabel('price')\n",
        "plt.tight_layout()\n",
        "plt.show()"
      ],
      "metadata": {
        "colab": {
          "base_uri": "https://localhost:8080/",
          "height": 657
        },
        "id": "LRHOAVHm6Xbu",
        "outputId": "1ed396df-03a4-4550-fc3d-1c2c054e230d"
      },
      "execution_count": 29,
      "outputs": [
        {
          "output_type": "display_data",
          "data": {
            "text/plain": [
              "<Figure size 1152x648 with 4 Axes>"
            ],
            "image/png": "[encoded data removed]"
          },
          "metadata": {
            "needs_background": "light"
          }
        }
      ]
    },
    {
      "cell_type": "markdown",
      "source": [
        "## 데이터 전처리"
      ],
      "metadata": {
        "id": "RpIzTeVLm3uk"
      }
    },
    {
      "cell_type": "markdown",
      "source": [
        "주가 데이터에 대하여 딥러닝 모델이 더 잘 학습할 수 있도록 정규화(Normalization)를 해주도록 하겠습니다."
      ],
      "metadata": {
        "id": "vSOhHyfWm6PJ"
      }
    },
    {
      "cell_type": "code",
      "source": [
        "from sklearn.preprocessing import MinMaxScaler\n",
        "\n",
        "scaler = MinMaxScaler()\n",
        "# 스케일을 적용할 column을 정의합니다.\n",
        "scale_cols = ['Open', 'High', 'Low', 'Close', 'Volume']\n",
        "\n",
        "# 스케일 후 columns\n",
        "scaled = scaler.fit_transform(stock[scale_cols])\n",
        "scaled"
      ],
      "metadata": {
        "colab": {
          "base_uri": "https://localhost:8080/"
        },
        "id": "G0_BlGhim8_R",
        "outputId": "c4d827e5-cb32-44ed-febf-4def833cc8dd"
      },
      "execution_count": 30,
      "outputs": [
        {
          "output_type": "execute_result",
          "data": {
            "text/plain": [
              "array([[0.54145729, 0.49101124, 0.55437666, 0.40461347, 0.0720434 ],\n",
              "       [0.53643216, 0.48089888, 0.5596817 , 0.40305486, 0.00852063],\n",
              "       [0.52638191, 0.47752809, 0.55437666, 0.39993766, 0.00708287],\n",
              "       ...,\n",
              "       [0.35301508, 0.34494382, 0.36737401, 0.21758105, 0.02131584],\n",
              "       [0.38944724, 0.36404494, 0.38859416, 0.20043641, 0.01854912],\n",
              "       [0.3781407 , 0.33820225, 0.3806366 , 0.20199501, 0.00341644]])"
            ]
          },
          "metadata": {},
          "execution_count": 30
        }
      ]
    },
    {
      "cell_type": "markdown",
      "source": [
        "스케일이 완료된 column으로 새로운 데이터프레임을 생성합니다.\n",
        "\n",
        "시간 순으로 정렬되어 있으며, datetime index는 제외했습니다.\n",
        "\n",
        "6,000개의 row, 5개 column으로 이루어진 데이터셋이 DataFrame으로 정리되었습니다."
      ],
      "metadata": {
        "id": "Ga23nPMGnAgt"
      }
    },
    {
      "cell_type": "code",
      "source": [
        "df = pd.DataFrame(scaled, columns=scale_cols)"
      ],
      "metadata": {
        "id": "NxzEumLLnCUL"
      },
      "execution_count": 31,
      "outputs": []
    },
    {
      "cell_type": "code",
      "source": [
        "from sklearn.model_selection import train_test_split\n",
        "\n",
        "x_train, x_test, y_train, y_test = train_test_split(df.drop('Close', 1), df['Close'], test_size=0.2, random_state=0, shuffle=False)\n"
      ],
      "metadata": {
        "id": "tW4AVexnnDnc"
      },
      "execution_count": 32,
      "outputs": []
    },
    {
      "cell_type": "code",
      "source": [
        "x_train.shape, y_train.shape"
      ],
      "metadata": {
        "colab": {
          "base_uri": "https://localhost:8080/"
        },
        "id": "VmeASTn3nZbq",
        "outputId": "3e45f22c-5e1f-4980-d106-05c2b98cf92d"
      },
      "execution_count": 33,
      "outputs": [
        {
          "output_type": "execute_result",
          "data": {
            "text/plain": [
              "((1378, 4), (1378,))"
            ]
          },
          "metadata": {},
          "execution_count": 33
        }
      ]
    },
    {
      "cell_type": "code",
      "source": [
        "x_test.shape, y_test.shape"
      ],
      "metadata": {
        "colab": {
          "base_uri": "https://localhost:8080/"
        },
        "id": "kS3e0WLSnbkL",
        "outputId": "bce22d69-020f-40fd-fdc1-67210ed2c6ed"
      },
      "execution_count": 34,
      "outputs": [
        {
          "output_type": "execute_result",
          "data": {
            "text/plain": [
              "((345, 4), (345,))"
            ]
          },
          "metadata": {},
          "execution_count": 34
        }
      ]
    },
    {
      "cell_type": "code",
      "source": [
        "x_train"
      ],
      "metadata": {
        "colab": {
          "base_uri": "https://localhost:8080/",
          "height": 424
        },
        "id": "XTLNtc39nJDC",
        "outputId": "d3006825-1a3a-41c0-c0c8-e907355991af"
      },
      "execution_count": 35,
      "outputs": [
        {
          "output_type": "execute_result",
          "data": {
            "text/plain": [
              "          Open      High       Low    Volume\n",
              "0     0.541457  0.491011  0.554377  0.072043\n",
              "1     0.536432  0.480899  0.559682  0.008521\n",
              "2     0.526382  0.477528  0.554377  0.007083\n",
              "3     0.527638  0.477528  0.555703  0.004866\n",
              "4     0.530151  0.475281  0.549072  0.009956\n",
              "...        ...       ...       ...       ...\n",
              "1373  0.537688  0.480899  0.542440  0.007426\n",
              "1374  0.520101  0.471910  0.530504  0.003314\n",
              "1375  0.516332  0.470787  0.531830  0.004201\n",
              "1376  0.523869  0.477528  0.551724  0.002498\n",
              "1377  0.526382  0.476404  0.543767  0.005842\n",
              "\n",
              "[1378 rows x 4 columns]"
            ],
            "text/html": [
              "\n",
              "  <div id=\"df-478d582a-97c8-4fbe-92bb-a14aaaf0b6ca\">\n",
              "    <div class=\"colab-df-container\">\n",
              "      <div>\n",
              "<style scoped>\n",
              "    .dataframe tbody tr th:only-of-type {\n",
              "        vertical-align: middle;\n",
              "    }\n",
              "\n",
              "    .dataframe tbody tr th {\n",
              "        vertical-align: top;\n",
              "    }\n",
              "\n",
              "    .dataframe thead th {\n",
              "        text-align: right;\n",
              "    }\n",
              "</style>\n",
              "<table border=\"1\" class=\"dataframe\">\n",
              "  <thead>\n",
              "    <tr style=\"text-align: right;\">\n",
              "      <th></th>\n",
              "      <th>Open</th>\n",
              "      <th>High</th>\n",
              "      <th>Low</th>\n",
              "      <th>Volume</th>\n",
              "    </tr>\n",
              "  </thead>\n",
              "  <tbody>\n",
              "    <tr>\n",
              "      <th>0</th>\n",
              "      <td>0.541457</td>\n",
              "      <td>0.491011</td>\n",
              "      <td>0.554377</td>\n",
              "      <td>0.072043</td>\n",
              "    </tr>\n",
              "    <tr>\n",
              "      <th>1</th>\n",
              "      <td>0.536432</td>\n",
              "      <td>0.480899</td>\n",
              "      <td>0.559682</td>\n",
              "      <td>0.008521</td>\n",
              "    </tr>\n",
              "    <tr>\n",
              "      <th>2</th>\n",
              "      <td>0.526382</td>\n",
              "      <td>0.477528</td>\n",
              "      <td>0.554377</td>\n",
              "      <td>0.007083</td>\n",
              "    </tr>\n",
              "    <tr>\n",
              "      <th>3</th>\n",
              "      <td>0.527638</td>\n",
              "      <td>0.477528</td>\n",
              "      <td>0.555703</td>\n",
              "      <td>0.004866</td>\n",
              "    </tr>\n",
              "    <tr>\n",
              "      <th>4</th>\n",
              "      <td>0.530151</td>\n",
              "      <td>0.475281</td>\n",
              "      <td>0.549072</td>\n",
              "      <td>0.009956</td>\n",
              "    </tr>\n",
              "    <tr>\n",
              "      <th>...</th>\n",
              "      <td>...</td>\n",
              "      <td>...</td>\n",
              "      <td>...</td>\n",
              "      <td>...</td>\n",
              "    </tr>\n",
              "    <tr>\n",
              "      <th>1373</th>\n",
              "      <td>0.537688</td>\n",
              "      <td>0.480899</td>\n",
              "      <td>0.542440</td>\n",
              "      <td>0.007426</td>\n",
              "    </tr>\n",
              "    <tr>\n",
              "      <th>1374</th>\n",
              "      <td>0.520101</td>\n",
              "      <td>0.471910</td>\n",
              "      <td>0.530504</td>\n",
              "      <td>0.003314</td>\n",
              "    </tr>\n",
              "    <tr>\n",
              "      <th>1375</th>\n",
              "      <td>0.516332</td>\n",
              "      <td>0.470787</td>\n",
              "      <td>0.531830</td>\n",
              "      <td>0.004201</td>\n",
              "    </tr>\n",
              "    <tr>\n",
              "      <th>1376</th>\n",
              "      <td>0.523869</td>\n",
              "      <td>0.477528</td>\n",
              "      <td>0.551724</td>\n",
              "      <td>0.002498</td>\n",
              "    </tr>\n",
              "    <tr>\n",
              "      <th>1377</th>\n",
              "      <td>0.526382</td>\n",
              "      <td>0.476404</td>\n",
              "      <td>0.543767</td>\n",
              "      <td>0.005842</td>\n",
              "    </tr>\n",
              "  </tbody>\n",
              "</table>\n",
              "<p>1378 rows × 4 columns</p>\n",
              "</div>\n",
              "      <button class=\"colab-df-convert\" onclick=\"convertToInteractive('df-478d582a-97c8-4fbe-92bb-a14aaaf0b6ca')\"\n",
              "              title=\"Convert this dataframe to an interactive table.\"\n",
              "              style=\"display:none;\">\n",
              "        \n",
              "  <svg xmlns=\"http://www.w3.org/2000/svg\" height=\"24px\"viewBox=\"0 0 24 24\"\n",
              "       width=\"24px\">\n",
              "    <path d=\"M0 0h24v24H0V0z\" fill=\"none\"/>\n",
              "    <path d=\"M18.56 5.44l.94 2.06.94-2.06 2.06-.94-2.06-.94-.94-2.06-.94 2.06-2.06.94zm-11 1L8.5 8.5l.94-2.06 2.06-.94-2.06-.94L8.5 2.5l-.94 2.06-2.06.94zm10 10l.94 2.06.94-2.06 2.06-.94-2.06-.94-.94-2.06-.94 2.06-2.06.94z\"/><path d=\"M17.41 7.96l-1.37-1.37c-.4-.4-.92-.59-1.43-.59-.52 0-1.04.2-1.43.59L10.3 9.45l-7.72 7.72c-.78.78-.78 2.05 0 2.83L4 21.41c.39.39.9.59 1.41.59.51 0 1.02-.2 1.41-.59l7.78-7.78 2.81-2.81c.8-.78.8-2.07 0-2.86zM5.41 20L4 18.59l7.72-7.72 1.47 1.35L5.41 20z\"/>\n",
              "  </svg>\n",
              "      </button>\n",
              "      \n",
              "  <style>\n",
              "    .colab-df-container {\n",
              "      display:flex;\n",
              "      flex-wrap:wrap;\n",
              "      gap: 12px;\n",
              "    }\n",
              "\n",
              "    .colab-df-convert {\n",
              "      background-color: #E8F0FE;\n",
              "      border: none;\n",
              "      border-radius: 50%;\n",
              "      cursor: pointer;\n",
              "      display: none;\n",
              "      fill: #1967D2;\n",
              "      height: 32px;\n",
              "      padding: 0 0 0 0;\n",
              "      width: 32px;\n",
              "    }\n",
              "\n",
              "    .colab-df-convert:hover {\n",
              "      background-color: #E2EBFA;\n",
              "      box-shadow: 0px 1px 2px rgba(60, 64, 67, 0.3), 0px 1px 3px 1px rgba(60, 64, 67, 0.15);\n",
              "      fill: #174EA6;\n",
              "    }\n",
              "\n",
              "    [theme=dark] .colab-df-convert {\n",
              "      background-color: #3B4455;\n",
              "      fill: #D2E3FC;\n",
              "    }\n",
              "\n",
              "    [theme=dark] .colab-df-convert:hover {\n",
              "      background-color: #434B5C;\n",
              "      box-shadow: 0px 1px 3px 1px rgba(0, 0, 0, 0.15);\n",
              "      filter: drop-shadow(0px 1px 2px rgba(0, 0, 0, 0.3));\n",
              "      fill: #FFFFFF;\n",
              "    }\n",
              "  </style>\n",
              "\n",
              "      <script>\n",
              "        const buttonEl =\n",
              "          document.querySelector('#df-478d582a-97c8-4fbe-92bb-a14aaaf0b6ca button.colab-df-convert');\n",
              "        buttonEl.style.display =\n",
              "          google.colab.kernel.accessAllowed ? 'block' : 'none';\n",
              "\n",
              "        async function convertToInteractive(key) {\n",
              "          const element = document.querySelector('#df-478d582a-97c8-4fbe-92bb-a14aaaf0b6ca');\n",
              "          const dataTable =\n",
              "            await google.colab.kernel.invokeFunction('convertToInteractive',\n",
              "                                                     [key], {});\n",
              "          if (!dataTable) return;\n",
              "\n",
              "          const docLinkHtml = 'Like what you see? Visit the ' +\n",
              "            '<a target=\"_blank\" href=https://colab.research.google.com/notebooks/data_table.ipynb>data table notebook</a>'\n",
              "            + ' to learn more about interactive tables.';\n",
              "          element.innerHTML = '';\n",
              "          dataTable['output_type'] = 'display_data';\n",
              "          await google.colab.output.renderOutput(dataTable, element);\n",
              "          const docLink = document.createElement('div');\n",
              "          docLink.innerHTML = docLinkHtml;\n",
              "          element.appendChild(docLink);\n",
              "        }\n",
              "      </script>\n",
              "    </div>\n",
              "  </div>\n",
              "  "
            ]
          },
          "metadata": {},
          "execution_count": 35
        }
      ]
    },
    {
      "cell_type": "markdown",
      "source": [
        "## TensroFlow Dataset을 활용한 시퀀스 데이터셋 구성"
      ],
      "metadata": {
        "id": "RjFd4crrngOM"
      }
    },
    {
      "cell_type": "code",
      "source": [
        "import tensorflow as tf\n",
        "\n",
        "def windowed_dataset(series, window_size, batch_size, shuffle):\n",
        "    series = tf.expand_dims(series, axis=-1)\n",
        "    ds = tf.data.Dataset.from_tensor_slices(series)\n",
        "    ds = ds.window(window_size + 1, shift=1, drop_remainder=True)\n",
        "    ds = ds.flat_map(lambda w: w.batch(window_size + 1))\n",
        "    if shuffle:\n",
        "        ds = ds.shuffle(1000)\n",
        "    ds = ds.map(lambda w: (w[:-1], w[-1]))\n",
        "    return ds.batch(batch_size).prefetch(1)\n",
        "\n",
        "WINDOW_SIZE=20\n",
        "BATCH_SIZE=32\n",
        "\n",
        "# trian_data는 학습용 데이터셋, test_data는 검증용 데이터셋 입니다.\n",
        "train_data = windowed_dataset(y_train, WINDOW_SIZE, BATCH_SIZE, True)\n",
        "test_data = windowed_dataset(y_test, WINDOW_SIZE, BATCH_SIZE, False)\n",
        "\n",
        "# 아래의 코드로 데이터셋의 구성을 확인해 볼 수 있습니다.\n",
        "# X: (batch_size, window_size, feature)\n",
        "# Y: (batch_size, feature)\n",
        "for data in train_data.take(1):\n",
        "    print(f'데이터셋(X) 구성(batch_size, window_size, feature갯수): {data[0].shape}')\n",
        "    print(f'데이터셋(Y) 구성(batch_size, window_size, feature갯수): {data[1].shape}')"
      ],
      "metadata": {
        "colab": {
          "base_uri": "https://localhost:8080/"
        },
        "id": "wMZ41KEPng9C",
        "outputId": "657317b4-117a-4c42-dd6b-9d3714243c38"
      },
      "execution_count": 36,
      "outputs": [
        {
          "output_type": "stream",
          "name": "stdout",
          "text": [
            "데이터셋(X) 구성(batch_size, window_size, feature갯수): (32, 20, 1)\n",
            "데이터셋(Y) 구성(batch_size, window_size, feature갯수): (32, 1)\n"
          ]
        }
      ]
    },
    {
      "cell_type": "markdown",
      "source": [
        "## 모델"
      ],
      "metadata": {
        "id": "JDqIaut_ntHm"
      }
    },
    {
      "cell_type": "code",
      "source": [
        "from tensorflow.keras.models import Sequential\n",
        "from tensorflow.keras.layers import Dense, LSTM, Conv1D, Lambda\n",
        "from tensorflow.keras.losses import Huber\n",
        "from tensorflow.keras.optimizers import Adam\n",
        "from tensorflow.keras.callbacks import EarlyStopping, ModelCheckpoint\n",
        "\n",
        "\n",
        "model = Sequential([\n",
        "    # 1차원 feature map 생성\n",
        "    Conv1D(filters=32, kernel_size=5,\n",
        "           padding=\"causal\",\n",
        "           activation=\"relu\",\n",
        "           input_shape=[WINDOW_SIZE, 1]),\n",
        "    # LSTM\n",
        "    LSTM(16, activation='tanh'),\n",
        "    Dense(16, activation=\"relu\"),\n",
        "    Dense(1),\n",
        "])\n",
        "\n",
        "# Sequence 학습에 비교적 좋은 퍼포먼스를 내는 Huber()를 사용합니다.\n",
        "loss = Huber()\n",
        "optimizer = Adam(0.0005)\n",
        "model.compile(loss=Huber(), optimizer=optimizer, metrics=['mse'])\n",
        "\n",
        "# earlystopping은 10번 epoch통안 val_loss 개선이 없다면 학습을 멈춥니다.\n",
        "earlystopping = EarlyStopping(monitor='val_loss', patience=10)\n",
        "# val_loss 기준 체크포인터도 생성합니다.\n",
        "filename = os.path.join('tmp', 'ckeckpointer.ckpt')\n",
        "checkpoint = ModelCheckpoint(filename, \n",
        "                             save_weights_only=True, \n",
        "                             save_best_only=True, \n",
        "                             monitor='val_loss', \n",
        "                             verbose=1)\n",
        "\n",
        "history = model.fit(train_data, \n",
        "                    validation_data=(test_data), \n",
        "                    epochs=50, \n",
        "                    callbacks=[checkpoint, earlystopping])"
      ],
      "metadata": {
        "id": "P3IOLBtZntd9",
        "colab": {
          "base_uri": "https://localhost:8080/"
        },
        "outputId": "364c874e-1151-4eee-8da9-ccbd9cec6769"
      },
      "execution_count": 37,
      "outputs": [
        {
          "output_type": "stream",
          "name": "stdout",
          "text": [
            "Epoch 1/50\n",
            "     43/Unknown - 3s 12ms/step - loss: 0.0416 - mse: 0.0833\n",
            "Epoch 1: val_loss improved from inf to 0.00306, saving model to tmp/ckeckpointer.ckpt\n",
            "43/43 [==============================] - 4s 29ms/step - loss: 0.0416 - mse: 0.0833 - val_loss: 0.0031 - val_mse: 0.0061\n",
            "Epoch 2/50\n",
            "40/43 [==========================>...] - ETA: 0s - loss: 0.0017 - mse: 0.0034\n",
            "Epoch 2: val_loss improved from 0.00306 to 0.00080, saving model to tmp/ckeckpointer.ckpt\n",
            "43/43 [==============================] - 1s 17ms/step - loss: 0.0016 - mse: 0.0033 - val_loss: 8.0380e-04 - val_mse: 0.0016\n",
            "Epoch 3/50\n",
            "43/43 [==============================] - ETA: 0s - loss: 8.5976e-04 - mse: 0.0017\n",
            "Epoch 3: val_loss improved from 0.00080 to 0.00038, saving model to tmp/ckeckpointer.ckpt\n",
            "43/43 [==============================] - 1s 17ms/step - loss: 8.5976e-04 - mse: 0.0017 - val_loss: 3.8023e-04 - val_mse: 7.6046e-04\n",
            "Epoch 4/50\n",
            "43/43 [==============================] - ETA: 0s - loss: 6.9883e-04 - mse: 0.0014\n",
            "Epoch 4: val_loss improved from 0.00038 to 0.00037, saving model to tmp/ckeckpointer.ckpt\n",
            "43/43 [==============================] - 1s 15ms/step - loss: 6.9883e-04 - mse: 0.0014 - val_loss: 3.7120e-04 - val_mse: 7.4240e-04\n",
            "Epoch 5/50\n",
            "42/43 [============================>.] - ETA: 0s - loss: 6.6841e-04 - mse: 0.0013\n",
            "Epoch 5: val_loss improved from 0.00037 to 0.00035, saving model to tmp/ckeckpointer.ckpt\n",
            "43/43 [==============================] - 1s 17ms/step - loss: 6.6612e-04 - mse: 0.0013 - val_loss: 3.4608e-04 - val_mse: 6.9216e-04\n",
            "Epoch 6/50\n",
            "43/43 [==============================] - ETA: 0s - loss: 6.5471e-04 - mse: 0.0013\n",
            "Epoch 6: val_loss did not improve from 0.00035\n",
            "43/43 [==============================] - 1s 15ms/step - loss: 6.5471e-04 - mse: 0.0013 - val_loss: 3.5476e-04 - val_mse: 7.0952e-04\n",
            "Epoch 7/50\n",
            "43/43 [==============================] - ETA: 0s - loss: 6.4026e-04 - mse: 0.0013\n",
            "Epoch 7: val_loss improved from 0.00035 to 0.00033, saving model to tmp/ckeckpointer.ckpt\n",
            "43/43 [==============================] - 1s 15ms/step - loss: 6.4026e-04 - mse: 0.0013 - val_loss: 3.2946e-04 - val_mse: 6.5892e-04\n",
            "Epoch 8/50\n",
            "43/43 [==============================] - ETA: 0s - loss: 6.1298e-04 - mse: 0.0012\n",
            "Epoch 8: val_loss improved from 0.00033 to 0.00031, saving model to tmp/ckeckpointer.ckpt\n",
            "43/43 [==============================] - 1s 15ms/step - loss: 6.1298e-04 - mse: 0.0012 - val_loss: 3.1082e-04 - val_mse: 6.2163e-04\n",
            "Epoch 9/50\n",
            "41/43 [===========================>..] - ETA: 0s - loss: 5.9493e-04 - mse: 0.0012\n",
            "Epoch 9: val_loss improved from 0.00031 to 0.00030, saving model to tmp/ckeckpointer.ckpt\n",
            "43/43 [==============================] - 1s 15ms/step - loss: 5.9422e-04 - mse: 0.0012 - val_loss: 3.0412e-04 - val_mse: 6.0823e-04\n",
            "Epoch 10/50\n",
            "41/43 [===========================>..] - ETA: 0s - loss: 5.8830e-04 - mse: 0.0012\n",
            "Epoch 10: val_loss improved from 0.00030 to 0.00029, saving model to tmp/ckeckpointer.ckpt\n",
            "43/43 [==============================] - 1s 15ms/step - loss: 5.8256e-04 - mse: 0.0012 - val_loss: 2.9233e-04 - val_mse: 5.8467e-04\n",
            "Epoch 11/50\n",
            "41/43 [===========================>..] - ETA: 0s - loss: 5.7551e-04 - mse: 0.0012\n",
            "Epoch 11: val_loss did not improve from 0.00029\n",
            "43/43 [==============================] - 1s 16ms/step - loss: 5.6741e-04 - mse: 0.0011 - val_loss: 3.1094e-04 - val_mse: 6.2187e-04\n",
            "Epoch 12/50\n",
            "41/43 [===========================>..] - ETA: 0s - loss: 5.4652e-04 - mse: 0.0011    \n",
            "Epoch 12: val_loss improved from 0.00029 to 0.00027, saving model to tmp/ckeckpointer.ckpt\n",
            "43/43 [==============================] - 1s 16ms/step - loss: 5.4604e-04 - mse: 0.0011 - val_loss: 2.7328e-04 - val_mse: 5.4657e-04\n",
            "Epoch 13/50\n",
            "42/43 [============================>.] - ETA: 0s - loss: 5.2651e-04 - mse: 0.0011\n",
            "Epoch 13: val_loss did not improve from 0.00027\n",
            "43/43 [==============================] - 1s 15ms/step - loss: 5.2214e-04 - mse: 0.0010 - val_loss: 2.9232e-04 - val_mse: 5.8465e-04\n",
            "Epoch 14/50\n",
            "40/43 [==========================>...] - ETA: 0s - loss: 5.4427e-04 - mse: 0.0011\n",
            "Epoch 14: val_loss improved from 0.00027 to 0.00026, saving model to tmp/ckeckpointer.ckpt\n",
            "43/43 [==============================] - 1s 18ms/step - loss: 5.3794e-04 - mse: 0.0011 - val_loss: 2.6383e-04 - val_mse: 5.2766e-04\n",
            "Epoch 15/50\n",
            "39/43 [==========================>...] - ETA: 0s - loss: 5.0253e-04 - mse: 0.0010    \n",
            "Epoch 15: val_loss did not improve from 0.00026\n",
            "43/43 [==============================] - 1s 18ms/step - loss: 5.1011e-04 - mse: 0.0010 - val_loss: 2.8573e-04 - val_mse: 5.7146e-04\n",
            "Epoch 16/50\n",
            "42/43 [============================>.] - ETA: 0s - loss: 5.1300e-04 - mse: 0.0010    \n",
            "Epoch 16: val_loss did not improve from 0.00026\n",
            "43/43 [==============================] - 1s 15ms/step - loss: 5.0987e-04 - mse: 0.0010 - val_loss: 3.7547e-04 - val_mse: 7.5094e-04\n",
            "Epoch 17/50\n",
            "42/43 [============================>.] - ETA: 0s - loss: 5.1522e-04 - mse: 0.0010\n",
            "Epoch 17: val_loss did not improve from 0.00026\n",
            "43/43 [==============================] - 1s 15ms/step - loss: 5.1277e-04 - mse: 0.0010 - val_loss: 2.8392e-04 - val_mse: 5.6784e-04\n",
            "Epoch 18/50\n",
            "43/43 [==============================] - ETA: 0s - loss: 4.7805e-04 - mse: 9.5610e-04\n",
            "Epoch 18: val_loss improved from 0.00026 to 0.00026, saving model to tmp/ckeckpointer.ckpt\n",
            "43/43 [==============================] - 1s 15ms/step - loss: 4.7805e-04 - mse: 9.5610e-04 - val_loss: 2.5664e-04 - val_mse: 5.1327e-04\n",
            "Epoch 19/50\n",
            "41/43 [===========================>..] - ETA: 0s - loss: 4.8974e-04 - mse: 9.7948e-04\n",
            "Epoch 19: val_loss improved from 0.00026 to 0.00023, saving model to tmp/ckeckpointer.ckpt\n",
            "43/43 [==============================] - 1s 17ms/step - loss: 4.8041e-04 - mse: 9.6082e-04 - val_loss: 2.3093e-04 - val_mse: 4.6186e-04\n",
            "Epoch 20/50\n",
            "42/43 [============================>.] - ETA: 0s - loss: 4.4375e-04 - mse: 8.8751e-04\n",
            "Epoch 20: val_loss did not improve from 0.00023\n",
            "43/43 [==============================] - 1s 16ms/step - loss: 4.5146e-04 - mse: 9.0293e-04 - val_loss: 2.6307e-04 - val_mse: 5.2615e-04\n",
            "Epoch 21/50\n",
            "40/43 [==========================>...] - ETA: 0s - loss: 4.7341e-04 - mse: 9.4682e-04\n",
            "Epoch 21: val_loss did not improve from 0.00023\n",
            "43/43 [==============================] - 1s 15ms/step - loss: 4.6145e-04 - mse: 9.2291e-04 - val_loss: 2.3183e-04 - val_mse: 4.6366e-04\n",
            "Epoch 22/50\n",
            "39/43 [==========================>...] - ETA: 0s - loss: 4.4757e-04 - mse: 8.9514e-04\n",
            "Epoch 22: val_loss improved from 0.00023 to 0.00021, saving model to tmp/ckeckpointer.ckpt\n",
            "43/43 [==============================] - 1s 15ms/step - loss: 4.4515e-04 - mse: 8.9030e-04 - val_loss: 2.1491e-04 - val_mse: 4.2981e-04\n",
            "Epoch 23/50\n",
            "42/43 [============================>.] - ETA: 0s - loss: 4.6248e-04 - mse: 9.2496e-04\n",
            "Epoch 23: val_loss did not improve from 0.00021\n",
            "43/43 [==============================] - 1s 16ms/step - loss: 4.5907e-04 - mse: 9.1813e-04 - val_loss: 2.1870e-04 - val_mse: 4.3739e-04\n",
            "Epoch 24/50\n",
            "43/43 [==============================] - ETA: 0s - loss: 4.7889e-04 - mse: 9.5778e-04\n",
            "Epoch 24: val_loss did not improve from 0.00021\n",
            "43/43 [==============================] - 1s 14ms/step - loss: 4.7889e-04 - mse: 9.5778e-04 - val_loss: 2.4314e-04 - val_mse: 4.8628e-04\n",
            "Epoch 25/50\n",
            "39/43 [==========================>...] - ETA: 0s - loss: 4.1985e-04 - mse: 8.3971e-04\n",
            "Epoch 25: val_loss did not improve from 0.00021\n",
            "43/43 [==============================] - 1s 16ms/step - loss: 4.1113e-04 - mse: 8.2225e-04 - val_loss: 2.3074e-04 - val_mse: 4.6148e-04\n",
            "Epoch 26/50\n",
            "42/43 [============================>.] - ETA: 0s - loss: 4.1274e-04 - mse: 8.2548e-04\n",
            "Epoch 26: val_loss improved from 0.00021 to 0.00020, saving model to tmp/ckeckpointer.ckpt\n",
            "43/43 [==============================] - 1s 17ms/step - loss: 4.1790e-04 - mse: 8.3580e-04 - val_loss: 2.0148e-04 - val_mse: 4.0296e-04\n",
            "Epoch 27/50\n",
            "39/43 [==========================>...] - ETA: 0s - loss: 4.2584e-04 - mse: 8.5168e-04\n",
            "Epoch 27: val_loss improved from 0.00020 to 0.00020, saving model to tmp/ckeckpointer.ckpt\n",
            "43/43 [==============================] - 1s 15ms/step - loss: 4.1776e-04 - mse: 8.3551e-04 - val_loss: 1.9955e-04 - val_mse: 3.9910e-04\n",
            "Epoch 28/50\n",
            "42/43 [============================>.] - ETA: 0s - loss: 3.8737e-04 - mse: 7.7473e-04\n",
            "Epoch 28: val_loss did not improve from 0.00020\n",
            "43/43 [==============================] - 1s 17ms/step - loss: 3.8388e-04 - mse: 7.6775e-04 - val_loss: 2.1354e-04 - val_mse: 4.2709e-04\n",
            "Epoch 29/50\n",
            "43/43 [==============================] - ETA: 0s - loss: 3.9621e-04 - mse: 7.9242e-04\n",
            "Epoch 29: val_loss did not improve from 0.00020\n",
            "43/43 [==============================] - 1s 15ms/step - loss: 3.9621e-04 - mse: 7.9242e-04 - val_loss: 2.2667e-04 - val_mse: 4.5333e-04\n",
            "Epoch 30/50\n",
            "40/43 [==========================>...] - ETA: 0s - loss: 3.8038e-04 - mse: 7.6077e-04\n",
            "Epoch 30: val_loss did not improve from 0.00020\n",
            "43/43 [==============================] - 1s 15ms/step - loss: 3.7643e-04 - mse: 7.5285e-04 - val_loss: 2.1061e-04 - val_mse: 4.2122e-04\n",
            "Epoch 31/50\n",
            "43/43 [==============================] - ETA: 0s - loss: 3.8213e-04 - mse: 7.6426e-04\n",
            "Epoch 31: val_loss did not improve from 0.00020\n",
            "43/43 [==============================] - 1s 17ms/step - loss: 3.8213e-04 - mse: 7.6426e-04 - val_loss: 3.5157e-04 - val_mse: 7.0314e-04\n",
            "Epoch 32/50\n",
            "43/43 [==============================] - ETA: 0s - loss: 3.9747e-04 - mse: 7.9495e-04\n",
            "Epoch 32: val_loss did not improve from 0.00020\n",
            "43/43 [==============================] - 1s 14ms/step - loss: 3.9747e-04 - mse: 7.9495e-04 - val_loss: 2.1239e-04 - val_mse: 4.2477e-04\n",
            "Epoch 33/50\n",
            "39/43 [==========================>...] - ETA: 0s - loss: 3.6199e-04 - mse: 7.2399e-04\n",
            "Epoch 33: val_loss did not improve from 0.00020\n",
            "43/43 [==============================] - 1s 14ms/step - loss: 3.6737e-04 - mse: 7.3473e-04 - val_loss: 2.1896e-04 - val_mse: 4.3792e-04\n",
            "Epoch 34/50\n",
            "40/43 [==========================>...] - ETA: 0s - loss: 3.6604e-04 - mse: 7.3209e-04\n",
            "Epoch 34: val_loss did not improve from 0.00020\n",
            "43/43 [==============================] - 1s 15ms/step - loss: 3.5951e-04 - mse: 7.1902e-04 - val_loss: 2.1622e-04 - val_mse: 4.3245e-04\n",
            "Epoch 35/50\n",
            "42/43 [============================>.] - ETA: 0s - loss: 3.6804e-04 - mse: 7.3608e-04\n",
            "Epoch 35: val_loss did not improve from 0.00020\n",
            "43/43 [==============================] - 1s 17ms/step - loss: 3.6580e-04 - mse: 7.3159e-04 - val_loss: 2.4085e-04 - val_mse: 4.8171e-04\n",
            "Epoch 36/50\n",
            "41/43 [===========================>..] - ETA: 0s - loss: 3.6711e-04 - mse: 7.3421e-04\n",
            "Epoch 36: val_loss did not improve from 0.00020\n",
            "43/43 [==============================] - 1s 17ms/step - loss: 3.8332e-04 - mse: 7.6663e-04 - val_loss: 2.1108e-04 - val_mse: 4.2216e-04\n",
            "Epoch 37/50\n",
            "41/43 [===========================>..] - ETA: 0s - loss: 3.5633e-04 - mse: 7.1266e-04\n",
            "Epoch 37: val_loss improved from 0.00020 to 0.00018, saving model to tmp/ckeckpointer.ckpt\n",
            "43/43 [==============================] - 1s 16ms/step - loss: 3.5139e-04 - mse: 7.0278e-04 - val_loss: 1.7943e-04 - val_mse: 3.5886e-04\n",
            "Epoch 38/50\n",
            "41/43 [===========================>..] - ETA: 0s - loss: 3.3390e-04 - mse: 6.6779e-04\n",
            "Epoch 38: val_loss did not improve from 0.00018\n",
            "43/43 [==============================] - 1s 17ms/step - loss: 3.3696e-04 - mse: 6.7391e-04 - val_loss: 1.8309e-04 - val_mse: 3.6618e-04\n",
            "Epoch 39/50\n",
            "42/43 [============================>.] - ETA: 0s - loss: 3.4009e-04 - mse: 6.8018e-04\n",
            "Epoch 39: val_loss did not improve from 0.00018\n",
            "43/43 [==============================] - 1s 17ms/step - loss: 3.4691e-04 - mse: 6.9383e-04 - val_loss: 2.0902e-04 - val_mse: 4.1804e-04\n",
            "Epoch 40/50\n",
            "41/43 [===========================>..] - ETA: 0s - loss: 3.4347e-04 - mse: 6.8694e-04\n",
            "Epoch 40: val_loss improved from 0.00018 to 0.00018, saving model to tmp/ckeckpointer.ckpt\n",
            "43/43 [==============================] - 1s 16ms/step - loss: 3.3565e-04 - mse: 6.7131e-04 - val_loss: 1.7565e-04 - val_mse: 3.5130e-04\n",
            "Epoch 41/50\n",
            "42/43 [============================>.] - ETA: 0s - loss: 3.3617e-04 - mse: 6.7235e-04\n",
            "Epoch 41: val_loss did not improve from 0.00018\n",
            "43/43 [==============================] - 1s 16ms/step - loss: 3.3371e-04 - mse: 6.6742e-04 - val_loss: 1.7809e-04 - val_mse: 3.5618e-04\n",
            "Epoch 42/50\n",
            "39/43 [==========================>...] - ETA: 0s - loss: 3.6001e-04 - mse: 7.2001e-04\n",
            "Epoch 42: val_loss did not improve from 0.00018\n",
            "43/43 [==============================] - 1s 18ms/step - loss: 3.4454e-04 - mse: 6.8909e-04 - val_loss: 1.8184e-04 - val_mse: 3.6368e-04\n",
            "Epoch 43/50\n",
            "40/43 [==========================>...] - ETA: 0s - loss: 3.3004e-04 - mse: 6.6008e-04\n",
            "Epoch 43: val_loss improved from 0.00018 to 0.00017, saving model to tmp/ckeckpointer.ckpt\n",
            "43/43 [==============================] - 1s 18ms/step - loss: 3.3040e-04 - mse: 6.6080e-04 - val_loss: 1.7133e-04 - val_mse: 3.4265e-04\n",
            "Epoch 44/50\n",
            "42/43 [============================>.] - ETA: 0s - loss: 3.1817e-04 - mse: 6.3634e-04\n",
            "Epoch 44: val_loss improved from 0.00017 to 0.00017, saving model to tmp/ckeckpointer.ckpt\n",
            "43/43 [==============================] - 1s 17ms/step - loss: 3.1623e-04 - mse: 6.3246e-04 - val_loss: 1.7025e-04 - val_mse: 3.4049e-04\n",
            "Epoch 45/50\n",
            "40/43 [==========================>...] - ETA: 0s - loss: 3.1501e-04 - mse: 6.3003e-04\n",
            "Epoch 45: val_loss did not improve from 0.00017\n",
            "43/43 [==============================] - 1s 15ms/step - loss: 3.1825e-04 - mse: 6.3650e-04 - val_loss: 1.9912e-04 - val_mse: 3.9824e-04\n",
            "Epoch 46/50\n",
            "42/43 [============================>.] - ETA: 0s - loss: 3.1007e-04 - mse: 6.2015e-04\n",
            "Epoch 46: val_loss did not improve from 0.00017\n",
            "43/43 [==============================] - 1s 18ms/step - loss: 3.1190e-04 - mse: 6.2380e-04 - val_loss: 1.8170e-04 - val_mse: 3.6339e-04\n",
            "Epoch 47/50\n",
            "43/43 [==============================] - ETA: 0s - loss: 3.2588e-04 - mse: 6.5176e-04\n",
            "Epoch 47: val_loss did not improve from 0.00017\n",
            "43/43 [==============================] - 1s 16ms/step - loss: 3.2588e-04 - mse: 6.5176e-04 - val_loss: 1.8106e-04 - val_mse: 3.6212e-04\n",
            "Epoch 48/50\n",
            "42/43 [============================>.] - ETA: 0s - loss: 3.1008e-04 - mse: 6.2016e-04\n",
            "Epoch 48: val_loss did not improve from 0.00017\n",
            "43/43 [==============================] - 1s 17ms/step - loss: 3.0847e-04 - mse: 6.1694e-04 - val_loss: 1.7371e-04 - val_mse: 3.4742e-04\n",
            "Epoch 49/50\n",
            "42/43 [============================>.] - ETA: 0s - loss: 3.0291e-04 - mse: 6.0582e-04\n",
            "Epoch 49: val_loss did not improve from 0.00017\n",
            "43/43 [==============================] - 1s 17ms/step - loss: 3.0404e-04 - mse: 6.0808e-04 - val_loss: 1.7222e-04 - val_mse: 3.4443e-04\n",
            "Epoch 50/50\n",
            "41/43 [===========================>..] - ETA: 0s - loss: 3.2087e-04 - mse: 6.4174e-04\n",
            "Epoch 50: val_loss did not improve from 0.00017\n",
            "43/43 [==============================] - 1s 17ms/step - loss: 3.1736e-04 - mse: 6.3473e-04 - val_loss: 1.7198e-04 - val_mse: 3.4396e-04\n"
          ]
        }
      ]
    },
    {
      "cell_type": "markdown",
      "source": [
        "저장한 ModelCheckpoint 를 로드합니다."
      ],
      "metadata": {
        "id": "qjPPISu9o8Ky"
      }
    },
    {
      "cell_type": "code",
      "source": [
        "model.load_weights(filename)"
      ],
      "metadata": {
        "colab": {
          "base_uri": "https://localhost:8080/"
        },
        "id": "M4IOIHxho8rA",
        "outputId": "06c5b7f3-06b1-4c43-b0a0-3a5a88eca0c7"
      },
      "execution_count": 38,
      "outputs": [
        {
          "output_type": "execute_result",
          "data": {
            "text/plain": [
              "<tensorflow.python.training.tracking.util.CheckpointLoadStatus at 0x7f02b8835e10>"
            ]
          },
          "metadata": {},
          "execution_count": 38
        }
      ]
    },
    {
      "cell_type": "markdown",
      "source": [
        "test_data를 활용하여 예측을 진행합니다."
      ],
      "metadata": {
        "id": "2R6dF00ro_ZP"
      }
    },
    {
      "cell_type": "code",
      "source": [
        "pred = model.predict(test_data)\n",
        "pred.shape"
      ],
      "metadata": {
        "colab": {
          "base_uri": "https://localhost:8080/"
        },
        "id": "azF04s4Io_qr",
        "outputId": "b6b81a6e-1736-43e0-9197-5f0ea6b48bc6"
      },
      "execution_count": 39,
      "outputs": [
        {
          "output_type": "execute_result",
          "data": {
            "text/plain": [
              "(325, 1)"
            ]
          },
          "metadata": {},
          "execution_count": 39
        }
      ]
    },
    {
      "cell_type": "markdown",
      "source": [
        "## 예측 데이터 시각화"
      ],
      "metadata": {
        "id": "03mGX4ZjvJN4"
      }
    },
    {
      "cell_type": "markdown",
      "source": [
        "아래 시각화 코드중 y_test 데이터에 **[20:]**으로 슬라이싱을 한 이유는\n",
        "\n",
        "예측 데이터에서 20일치의 데이터로 21일치를 예측해야하기 때문에 test_data로 예측 시 *앞의 20일은 예측하지 않습니다.*\n",
        "\n",
        "따라서, 20번 째 index와 비교하면 더욱 정확합니다."
      ],
      "metadata": {
        "id": "bLkxCDILvG0f"
      }
    },
    {
      "cell_type": "code",
      "source": [
        "plt.figure(figsize=(12, 9))\n",
        "plt.plot(np.asarray(y_test)[20:], label='actual')\n",
        "plt.plot(pred, label='prediction')\n",
        "plt.legend()\n",
        "plt.show()"
      ],
      "metadata": {
        "colab": {
          "base_uri": "https://localhost:8080/",
          "height": 537
        },
        "id": "kJ5FkXDprlu6",
        "outputId": "190ace3c-d982-445e-9d86-4f3572781204"
      },
      "execution_count": 40,
      "outputs": [
        {
          "output_type": "display_data",
          "data": {
            "text/plain": [
              "<Figure size 864x648 with 1 Axes>"
            ],
            "image/png": "[encoded data removed]"
          },
          "metadata": {
            "needs_background": "light"
          }
        }
      ]
    },
    {
      "cell_type": "code",
      "source": [
        "print(\"내일 주식의 주가는? :\", stock.Close[-1] * pred[-1] / scaled[:, 3][-1])"
      ],
      "metadata": {
        "colab": {
          "base_uri": "https://localhost:8080/"
        },
        "id": "paKqyBhQulvL",
        "outputId": "4e86e654-6c01-432e-fd9a-2b2747a1bb69"
      },
      "execution_count": 41,
      "outputs": [
        {
          "output_type": "stream",
          "name": "stdout",
          "text": [
            "내일 주식의 주가는? : [1445.3705]\n"
          ]
        }
      ]
    }
  ]
}