{
  "nbformat": 4,
  "nbformat_minor": 0,
  "metadata": {
    "colab": {
      "name": "AI2.ipynb",
      "provenance": [],
      "collapsed_sections": [],
      "authorship_tag": "ABX9TyOYbdE978c3KjTdeTuXwZQB",
      "include_colab_link": true
    },
    "kernelspec": {
      "name": "python3",
      "display_name": "Python 3"
    },
    "language_info": {
      "name": "python"
    }
  },
  "cells": [
    {
      "cell_type": "markdown",
      "metadata": {
        "id": "view-in-github",
        "colab_type": "text"
      },
      "source": [
        "<a href=\"https://colab.research.google.com/github/rhwy12/AI_TeamProject/blob/main/AI2.ipynb\" target=\"_parent\"><img src=\"https://colab.research.google.com/assets/colab-badge.svg\" alt=\"Open In Colab\"/></a>"
      ]
    },
    {
      "cell_type": "code",
      "source": [
        "import math\n",
        "import pandas_datareader.data as web\n",
        "import numpy as np\n",
        "import pandas as pd\n",
        "from sklearn.preprocessing import MinMaxScaler\n",
        "from keras.models import Sequential\n",
        "from keras.layers import Dense, LSTM\n",
        "import matplotlib.pyplot as plt\n",
        "import os\n",
        "from datetime import datetime, timedelta\n",
        "\n",
        "%matplotlib inline\n",
        "\n",
        "now = datetime.now()"
      ],
      "metadata": {
        "id": "k4cJMbhucwLx"
      },
      "execution_count": null,
      "outputs": []
    },
    {
      "cell_type": "code",
      "source": [
        "code_name = '005930'\n",
        "start_day = \"2017-01-01\"\n",
        "end_day = datetime.now()\n",
        "predict_day = now + timedelta(weeks=1) # 1주일 후 예측\n",
        "\n",
        "last_days = 10"
      ],
      "metadata": {
        "id": "Mgk-B0XFcwe2"
      },
      "execution_count": null,
      "outputs": []
    },
    {
      "cell_type": "code",
      "source": [
        "datas = web.DataReader(code_name, 'naver', start=start_day, end=end_day)\n",
        "datas.head()"
      ],
      "metadata": {
        "colab": {
          "base_uri": "https://localhost:8080/",
          "height": 238
        },
        "id": "70-T3wbMcxud",
        "outputId": "1efddc89-1592-47db-8115-09e824633a5a"
      },
      "execution_count": null,
      "outputs": [
        {
          "output_type": "execute_result",
          "data": {
            "text/plain": [
              "             Open   High    Low  Close  Volume\n",
              "Date                                          \n",
              "2017-01-02  35980  36240  35880  36100   93012\n",
              "2017-01-03  36280  36620  36020  36480  147153\n",
              "2017-01-04  36500  36520  36100  36160  159435\n",
              "2017-01-05  36060  36060  35540  35560  219349\n",
              "2017-01-06  36180  36440  36040  36200  177619"
            ],
            "text/html": [
              "\n",
              "  <div id=\"df-94eae285-ded6-48c9-bd2d-fa3208476a2c\">\n",
              "    <div class=\"colab-df-container\">\n",
              "      <div>\n",
              "<style scoped>\n",
              "    .dataframe tbody tr th:only-of-type {\n",
              "        vertical-align: middle;\n",
              "    }\n",
              "\n",
              "    .dataframe tbody tr th {\n",
              "        vertical-align: top;\n",
              "    }\n",
              "\n",
              "    .dataframe thead th {\n",
              "        text-align: right;\n",
              "    }\n",
              "</style>\n",
              "<table border=\"1\" class=\"dataframe\">\n",
              "  <thead>\n",
              "    <tr style=\"text-align: right;\">\n",
              "      <th></th>\n",
              "      <th>Open</th>\n",
              "      <th>High</th>\n",
              "      <th>Low</th>\n",
              "      <th>Close</th>\n",
              "      <th>Volume</th>\n",
              "    </tr>\n",
              "    <tr>\n",
              "      <th>Date</th>\n",
              "      <th></th>\n",
              "      <th></th>\n",
              "      <th></th>\n",
              "      <th></th>\n",
              "      <th></th>\n",
              "    </tr>\n",
              "  </thead>\n",
              "  <tbody>\n",
              "    <tr>\n",
              "      <th>2017-01-02</th>\n",
              "      <td>35980</td>\n",
              "      <td>36240</td>\n",
              "      <td>35880</td>\n",
              "      <td>36100</td>\n",
              "      <td>93012</td>\n",
              "    </tr>\n",
              "    <tr>\n",
              "      <th>2017-01-03</th>\n",
              "      <td>36280</td>\n",
              "      <td>36620</td>\n",
              "      <td>36020</td>\n",
              "      <td>36480</td>\n",
              "      <td>147153</td>\n",
              "    </tr>\n",
              "    <tr>\n",
              "      <th>2017-01-04</th>\n",
              "      <td>36500</td>\n",
              "      <td>36520</td>\n",
              "      <td>36100</td>\n",
              "      <td>36160</td>\n",
              "      <td>159435</td>\n",
              "    </tr>\n",
              "    <tr>\n",
              "      <th>2017-01-05</th>\n",
              "      <td>36060</td>\n",
              "      <td>36060</td>\n",
              "      <td>35540</td>\n",
              "      <td>35560</td>\n",
              "      <td>219349</td>\n",
              "    </tr>\n",
              "    <tr>\n",
              "      <th>2017-01-06</th>\n",
              "      <td>36180</td>\n",
              "      <td>36440</td>\n",
              "      <td>36040</td>\n",
              "      <td>36200</td>\n",
              "      <td>177619</td>\n",
              "    </tr>\n",
              "  </tbody>\n",
              "</table>\n",
              "</div>\n",
              "      <button class=\"colab-df-convert\" onclick=\"convertToInteractive('df-94eae285-ded6-48c9-bd2d-fa3208476a2c')\"\n",
              "              title=\"Convert this dataframe to an interactive table.\"\n",
              "              style=\"display:none;\">\n",
              "        \n",
              "  <svg xmlns=\"http://www.w3.org/2000/svg\" height=\"24px\"viewBox=\"0 0 24 24\"\n",
              "       width=\"24px\">\n",
              "    <path d=\"M0 0h24v24H0V0z\" fill=\"none\"/>\n",
              "    <path d=\"M18.56 5.44l.94 2.06.94-2.06 2.06-.94-2.06-.94-.94-2.06-.94 2.06-2.06.94zm-11 1L8.5 8.5l.94-2.06 2.06-.94-2.06-.94L8.5 2.5l-.94 2.06-2.06.94zm10 10l.94 2.06.94-2.06 2.06-.94-2.06-.94-.94-2.06-.94 2.06-2.06.94z\"/><path d=\"M17.41 7.96l-1.37-1.37c-.4-.4-.92-.59-1.43-.59-.52 0-1.04.2-1.43.59L10.3 9.45l-7.72 7.72c-.78.78-.78 2.05 0 2.83L4 21.41c.39.39.9.59 1.41.59.51 0 1.02-.2 1.41-.59l7.78-7.78 2.81-2.81c.8-.78.8-2.07 0-2.86zM5.41 20L4 18.59l7.72-7.72 1.47 1.35L5.41 20z\"/>\n",
              "  </svg>\n",
              "      </button>\n",
              "      \n",
              "  <style>\n",
              "    .colab-df-container {\n",
              "      display:flex;\n",
              "      flex-wrap:wrap;\n",
              "      gap: 12px;\n",
              "    }\n",
              "\n",
              "    .colab-df-convert {\n",
              "      background-color: #E8F0FE;\n",
              "      border: none;\n",
              "      border-radius: 50%;\n",
              "      cursor: pointer;\n",
              "      display: none;\n",
              "      fill: #1967D2;\n",
              "      height: 32px;\n",
              "      padding: 0 0 0 0;\n",
              "      width: 32px;\n",
              "    }\n",
              "\n",
              "    .colab-df-convert:hover {\n",
              "      background-color: #E2EBFA;\n",
              "      box-shadow: 0px 1px 2px rgba(60, 64, 67, 0.3), 0px 1px 3px 1px rgba(60, 64, 67, 0.15);\n",
              "      fill: #174EA6;\n",
              "    }\n",
              "\n",
              "    [theme=dark] .colab-df-convert {\n",
              "      background-color: #3B4455;\n",
              "      fill: #D2E3FC;\n",
              "    }\n",
              "\n",
              "    [theme=dark] .colab-df-convert:hover {\n",
              "      background-color: #434B5C;\n",
              "      box-shadow: 0px 1px 3px 1px rgba(0, 0, 0, 0.15);\n",
              "      filter: drop-shadow(0px 1px 2px rgba(0, 0, 0, 0.3));\n",
              "      fill: #FFFFFF;\n",
              "    }\n",
              "  </style>\n",
              "\n",
              "      <script>\n",
              "        const buttonEl =\n",
              "          document.querySelector('#df-94eae285-ded6-48c9-bd2d-fa3208476a2c button.colab-df-convert');\n",
              "        buttonEl.style.display =\n",
              "          google.colab.kernel.accessAllowed ? 'block' : 'none';\n",
              "\n",
              "        async function convertToInteractive(key) {\n",
              "          const element = document.querySelector('#df-94eae285-ded6-48c9-bd2d-fa3208476a2c');\n",
              "          const dataTable =\n",
              "            await google.colab.kernel.invokeFunction('convertToInteractive',\n",
              "                                                     [key], {});\n",
              "          if (!dataTable) return;\n",
              "\n",
              "          const docLinkHtml = 'Like what you see? Visit the ' +\n",
              "            '<a target=\"_blank\" href=https://colab.research.google.com/notebooks/data_table.ipynb>data table notebook</a>'\n",
              "            + ' to learn more about interactive tables.';\n",
              "          element.innerHTML = '';\n",
              "          dataTable['output_type'] = 'display_data';\n",
              "          await google.colab.output.renderOutput(dataTable, element);\n",
              "          const docLink = document.createElement('div');\n",
              "          docLink.innerHTML = docLinkHtml;\n",
              "          element.appendChild(docLink);\n",
              "        }\n",
              "      </script>\n",
              "    </div>\n",
              "  </div>\n",
              "  "
            ]
          },
          "metadata": {},
          "execution_count": 3
        }
      ]
    },
    {
      "cell_type": "code",
      "source": [
        "datas.shape"
      ],
      "metadata": {
        "colab": {
          "base_uri": "https://localhost:8080/"
        },
        "id": "-AOnUn62cykm",
        "outputId": "17ff69cd-c485-47cf-a65a-130abbd5d74c"
      },
      "execution_count": null,
      "outputs": [
        {
          "output_type": "execute_result",
          "data": {
            "text/plain": [
              "(1318, 5)"
            ]
          },
          "metadata": {},
          "execution_count": 4
        }
      ]
    },
    {
      "cell_type": "code",
      "source": [
        "plt.figure(figsize=(16,8))\n",
        "\n",
        "plt.title('Close Price History')\n",
        "\n",
        "plt.plot(datas['Close'].astype('float32'))\n",
        "\n",
        "plt.xlabel('Date')\n",
        "\n",
        "plt.ylabel('Close Price KRW')\n",
        "\n",
        "plt.show()"
      ],
      "metadata": {
        "colab": {
          "base_uri": "https://localhost:8080/",
          "height": 513
        },
        "id": "0U4Ajb_Ec0EA",
        "outputId": "a4e6e34d-1fee-4468-d9ea-eeda3bafa2bd"
      },
      "execution_count": null,
      "outputs": [
        {
          "output_type": "display_data",
          "data": {
            "text/plain": [
              "<Figure size 1152x576 with 1 Axes>"
            ],
            "image/png": "[encoded data removed]"
          },
          "metadata": {
            "needs_background": "light"
          }
        }
      ]
    },
    {
      "cell_type": "code",
      "source": [
        "data = datas.filter(['Close'])"
      ],
      "metadata": {
        "id": "SrfWuM2bc097"
      },
      "execution_count": null,
      "outputs": []
    },
    {
      "cell_type": "code",
      "source": [
        "dataset = data.values"
      ],
      "metadata": {
        "id": "6FQ28ypPc1oy"
      },
      "execution_count": null,
      "outputs": []
    },
    {
      "cell_type": "code",
      "source": [
        "training_data_len = math.ceil(len(dataset) * .8)\n",
        "\n",
        "training_data_len"
      ],
      "metadata": {
        "colab": {
          "base_uri": "https://localhost:8080/"
        },
        "id": "NPfRr65Gc17x",
        "outputId": "1c0dc8f4-b8f8-4d77-9279-f4c29275ab36"
      },
      "execution_count": null,
      "outputs": [
        {
          "output_type": "execute_result",
          "data": {
            "text/plain": [
              "1055"
            ]
          },
          "metadata": {},
          "execution_count": 8
        }
      ]
    },
    {
      "cell_type": "code",
      "source": [
        "scaler = MinMaxScaler(feature_range=(0,1))\n",
        "\n",
        "scaled_data = scaler.fit_transform(dataset)\n",
        "\n",
        "scaled_data"
      ],
      "metadata": {
        "colab": {
          "base_uri": "https://localhost:8080/"
        },
        "id": "wDkIcL38c233",
        "outputId": "485fb909-177b-4972-dc01-d3f07df9869a"
      },
      "execution_count": null,
      "outputs": [
        {
          "output_type": "execute_result",
          "data": {
            "text/plain": [
              "array([[0.00974026],\n",
              "       [0.01659452],\n",
              "       [0.01082251],\n",
              "       ...,\n",
              "       [0.54365079],\n",
              "       [0.52922078],\n",
              "       [0.55808081]])"
            ]
          },
          "metadata": {},
          "execution_count": 9
        }
      ]
    },
    {
      "cell_type": "code",
      "source": [
        "train_data = scaled_data[0:training_data_len, :]"
      ],
      "metadata": {
        "id": "YSTMQKH-c4Xj"
      },
      "execution_count": null,
      "outputs": []
    },
    {
      "cell_type": "code",
      "source": [
        "x_train = []\n",
        "\n",
        "y_train = []\n",
        "\n",
        "for i in range(last_days, len(train_data)):\n",
        "\n",
        "    x_train.append(train_data[i-last_days:i, 0])\n",
        "\n",
        "    y_train.append(train_data[i, 0])\n",
        "\n",
        "x_train, y_train = np.array(x_train), np.array(y_train)\n",
        "x_train = np.reshape(x_train, (x_train.shape[0], x_train.shape[1], 1)) # three-dimensional shape\n",
        "\n",
        "x_train.shape\n"
      ],
      "metadata": {
        "colab": {
          "base_uri": "https://localhost:8080/"
        },
        "id": "0d3wsBAdc5Qy",
        "outputId": "f324c7e4-1566-4157-f3ff-63ea233320b9"
      },
      "execution_count": null,
      "outputs": [
        {
          "output_type": "execute_result",
          "data": {
            "text/plain": [
              "(1045, 10, 1)"
            ]
          },
          "metadata": {},
          "execution_count": 11
        }
      ]
    },
    {
      "cell_type": "code",
      "source": [
        "model = Sequential()\n",
        "\n",
        "model.add(LSTM(50, return_sequences=True, input_shape=(x_train.shape[1], 1)))\n",
        "\n",
        "model.add(LSTM(50, return_sequences=False))\n",
        "\n",
        "model.add(Dense(25))\n",
        "\n",
        "model.add(Dense(1))"
      ],
      "metadata": {
        "id": "y6zQB3d9c6ky"
      },
      "execution_count": null,
      "outputs": []
    },
    {
      "cell_type": "code",
      "source": [
        "model.compile(optimizer='adam', loss='mean_squared_error')\n",
        "model.fit(x_train, y_train, batch_size=1, epochs=1)"
      ],
      "metadata": {
        "colab": {
          "base_uri": "https://localhost:8080/"
        },
        "id": "_Wn1QZ-ec7h9",
        "outputId": "eb4139af-0031-4764-f168-907d049822a1"
      },
      "execution_count": null,
      "outputs": [
        {
          "output_type": "stream",
          "name": "stdout",
          "text": [
            "1045/1045 [==============================] - 23s 8ms/step - loss: 0.0030\n"
          ]
        },
        {
          "output_type": "execute_result",
          "data": {
            "text/plain": [
              "<keras.callbacks.History at 0x7fe7deb05810>"
            ]
          },
          "metadata": {},
          "execution_count": 13
        }
      ]
    },
    {
      "cell_type": "code",
      "source": [
        "test_data = scaled_data[training_data_len - last_days:,:]"
      ],
      "metadata": {
        "id": "lDYhxWeac9Ts"
      },
      "execution_count": null,
      "outputs": []
    },
    {
      "cell_type": "code",
      "source": [
        "x_test = []\n",
        "\n",
        "y_test = dataset[training_data_len:,:]\n",
        "\n",
        "for i in range(last_days, len(test_data)):\n",
        "\n",
        "    x_test.append(test_data[i-last_days:i,0])"
      ],
      "metadata": {
        "id": "NtbiIqRuc93p"
      },
      "execution_count": null,
      "outputs": []
    },
    {
      "cell_type": "code",
      "source": [
        "x_test = np.array(x_test)\n",
        "x_test = np.reshape(x_test, (x_test.shape[0], x_test.shape[1], 1))"
      ],
      "metadata": {
        "id": "EvlITZYSc-Xw"
      },
      "execution_count": null,
      "outputs": []
    },
    {
      "cell_type": "code",
      "source": [
        "predictions = model.predict(x_test)\n",
        "\n",
        "predictions = scaler.inverse_transform(predictions)\n",
        "\n",
        "predictions"
      ],
      "metadata": {
        "id": "v34zhu9tdAGQ",
        "colab": {
          "base_uri": "https://localhost:8080/"
        },
        "outputId": "1c4e6852-c72b-40fb-8c21-fd24da369c77"
      },
      "execution_count": null,
      "outputs": [
        {
          "output_type": "execute_result",
          "data": {
            "text/plain": [
              "array([[87859.05 ],\n",
              "       [87623.93 ],\n",
              "       [87384.37 ],\n",
              "       [87220.08 ],\n",
              "       [87159.4  ],\n",
              "       [87047.47 ],\n",
              "       [86864.75 ],\n",
              "       [86617.164],\n",
              "       [86345.055],\n",
              "       [86119.63 ],\n",
              "       [85980.76 ],\n",
              "       [85938.23 ],\n",
              "       [85883.695],\n",
              "       [85937.67 ],\n",
              "       [85817.96 ],\n",
              "       [85553.586],\n",
              "       [85099.51 ],\n",
              "       [84735.25 ],\n",
              "       [84377.875],\n",
              "       [84039.4  ],\n",
              "       [83692.87 ],\n",
              "       [83469.625],\n",
              "       [83295.13 ],\n",
              "       [83115.95 ],\n",
              "       [83063.87 ],\n",
              "       [83057.24 ],\n",
              "       [83155.87 ],\n",
              "       [83225.98 ],\n",
              "       [83354.61 ],\n",
              "       [83511.13 ],\n",
              "       [83876.91 ],\n",
              "       [84229.39 ],\n",
              "       [84561.73 ],\n",
              "       [84840.16 ],\n",
              "       [84997.65 ],\n",
              "       [85077.15 ],\n",
              "       [85078.61 ],\n",
              "       [84983.02 ],\n",
              "       [84891.83 ],\n",
              "       [84890.914],\n",
              "       [84762.33 ],\n",
              "       [84628.23 ],\n",
              "       [84437.195],\n",
              "       [84232.836],\n",
              "       [84078.95 ],\n",
              "       [84053.586],\n",
              "       [84131.04 ],\n",
              "       [84310.875],\n",
              "       [84409.984],\n",
              "       [84407.75 ],\n",
              "       [84357.51 ],\n",
              "       [84266.93 ],\n",
              "       [84213.734],\n",
              "       [84238.98 ],\n",
              "       [84258.625],\n",
              "       [84142.164],\n",
              "       [83931.51 ],\n",
              "       [83716.1  ],\n",
              "       [83569.1  ],\n",
              "       [83424.805],\n",
              "       [83422.31 ],\n",
              "       [83395.88 ],\n",
              "       [83263.84 ],\n",
              "       [83065.68 ],\n",
              "       [82836.086],\n",
              "       [82756.13 ],\n",
              "       [82709.484],\n",
              "       [82609.695],\n",
              "       [82465.914],\n",
              "       [82396.195],\n",
              "       [82290.15 ],\n",
              "       [82192.69 ],\n",
              "       [82200.97 ],\n",
              "       [82447.82 ],\n",
              "       [82969.08 ],\n",
              "       [83449.945],\n",
              "       [83876.82 ],\n",
              "       [84256.61 ],\n",
              "       [84447.75 ],\n",
              "       [84317.016],\n",
              "       [83905.57 ],\n",
              "       [83128.04 ],\n",
              "       [82146.88 ],\n",
              "       [81022.445],\n",
              "       [79819.18 ],\n",
              "       [78705.34 ],\n",
              "       [77784.96 ],\n",
              "       [77245.805],\n",
              "       [77013.55 ],\n",
              "       [76897.58 ],\n",
              "       [76846.45 ],\n",
              "       [76932.92 ],\n",
              "       [77224.086],\n",
              "       [77613.016],\n",
              "       [77975.69 ],\n",
              "       [78355.38 ],\n",
              "       [78743.87 ],\n",
              "       [78903.59 ],\n",
              "       [79020.16 ],\n",
              "       [79052.67 ],\n",
              "       [79020.13 ],\n",
              "       [79029.266],\n",
              "       [79001.74 ],\n",
              "       [79056.28 ],\n",
              "       [79099.125],\n",
              "       [79197.84 ],\n",
              "       [79321.586],\n",
              "       [79514.4  ],\n",
              "       [79726.984],\n",
              "       [79842.17 ],\n",
              "       [79652.195],\n",
              "       [79274.64 ],\n",
              "       [78744.31 ],\n",
              "       [78063.266],\n",
              "       [77313.79 ],\n",
              "       [76537.65 ],\n",
              "       [75815.16 ],\n",
              "       [74938.81 ],\n",
              "       [74014.88 ],\n",
              "       [73262.83 ],\n",
              "       [72777.88 ],\n",
              "       [72415.555],\n",
              "       [72227.69 ],\n",
              "       [72136.08 ],\n",
              "       [72105.66 ],\n",
              "       [72091.055],\n",
              "       [72079.67 ],\n",
              "       [72265.945],\n",
              "       [72376.63 ],\n",
              "       [72469.46 ],\n",
              "       [72441.47 ],\n",
              "       [72380.1  ],\n",
              "       [72446.29 ],\n",
              "       [72487.984],\n",
              "       [72534.88 ],\n",
              "       [72528.64 ],\n",
              "       [72549.41 ],\n",
              "       [72526.16 ],\n",
              "       [72522.734],\n",
              "       [72445.336],\n",
              "       [72459.97 ],\n",
              "       [72567.13 ],\n",
              "       [72638.74 ],\n",
              "       [72725.81 ],\n",
              "       [72726.43 ],\n",
              "       [72802.77 ],\n",
              "       [73244.87 ],\n",
              "       [73898.41 ],\n",
              "       [74585.99 ],\n",
              "       [75142.336],\n",
              "       [75412.32 ],\n",
              "       [75496.11 ],\n",
              "       [75397.22 ],\n",
              "       [75537.59 ],\n",
              "       [75923.89 ],\n",
              "       [76335.29 ],\n",
              "       [76674.875],\n",
              "       [77155.59 ],\n",
              "       [77710.125],\n",
              "       [78379.84 ],\n",
              "       [78957.33 ],\n",
              "       [79396.12 ],\n",
              "       [79787.72 ],\n",
              "       [80015.61 ],\n",
              "       [80187.12 ],\n",
              "       [80386.27 ],\n",
              "       [80458.375],\n",
              "       [80534.92 ],\n",
              "       [80765.81 ],\n",
              "       [81073.98 ],\n",
              "       [81543.66 ],\n",
              "       [82000.36 ],\n",
              "       [82418.12 ],\n",
              "       [82612.17 ],\n",
              "       [82637.36 ],\n",
              "       [82595.57 ],\n",
              "       [82570.65 ],\n",
              "       [82352.83 ],\n",
              "       [81976.28 ],\n",
              "       [81699.766],\n",
              "       [81447.73 ],\n",
              "       [81353.48 ],\n",
              "       [81335.164],\n",
              "       [81330.27 ],\n",
              "       [81255.336],\n",
              "       [81141.29 ],\n",
              "       [80966.04 ],\n",
              "       [80761.695],\n",
              "       [80560.71 ],\n",
              "       [80206.64 ],\n",
              "       [79805.17 ],\n",
              "       [79249.93 ],\n",
              "       [78613.625],\n",
              "       [77825.18 ],\n",
              "       [77213.766],\n",
              "       [76702.945],\n",
              "       [76384.46 ],\n",
              "       [76109.21 ],\n",
              "       [75904.8  ],\n",
              "       [75916.57 ],\n",
              "       [76105.59 ],\n",
              "       [76360.52 ],\n",
              "       [76514.99 ],\n",
              "       [76673.945],\n",
              "       [76781.93 ],\n",
              "       [76928.695],\n",
              "       [76985.984],\n",
              "       [77049.25 ],\n",
              "       [76978.35 ],\n",
              "       [76765.5  ],\n",
              "       [76348.055],\n",
              "       [75937.914],\n",
              "       [75613.33 ],\n",
              "       [75281.1  ],\n",
              "       [75042.086],\n",
              "       [74752.97 ],\n",
              "       [74364.62 ],\n",
              "       [73879.28 ],\n",
              "       [73575.695],\n",
              "       [73259.266],\n",
              "       [73038.69 ],\n",
              "       [72752.8  ],\n",
              "       [72547.21 ],\n",
              "       [72498.63 ],\n",
              "       [72424.71 ],\n",
              "       [72365.81 ],\n",
              "       [72380.16 ],\n",
              "       [72433.36 ],\n",
              "       [72341.99 ],\n",
              "       [72285.375],\n",
              "       [72195.54 ],\n",
              "       [72179.47 ],\n",
              "       [72112.58 ],\n",
              "       [71988.11 ],\n",
              "       [71839.61 ],\n",
              "       [71729.32 ],\n",
              "       [71594.53 ],\n",
              "       [71391.414],\n",
              "       [71155.766],\n",
              "       [70879.17 ],\n",
              "       [70613.91 ],\n",
              "       [70260.45 ],\n",
              "       [70082.25 ],\n",
              "       [69892.84 ],\n",
              "       [69642.59 ],\n",
              "       [69365.68 ],\n",
              "       [69161.43 ],\n",
              "       [69046.625],\n",
              "       [69019.47 ],\n",
              "       [68967.414],\n",
              "       [68830.22 ],\n",
              "       [68680.44 ],\n",
              "       [68326.016],\n",
              "       [67972.41 ],\n",
              "       [67897.81 ],\n",
              "       [67931.2  ],\n",
              "       [68022.414],\n",
              "       [68193.234],\n",
              "       [68249.64 ],\n",
              "       [68245.44 ],\n",
              "       [68177.61 ],\n",
              "       [68066.45 ],\n",
              "       [67901.52 ]], dtype=float32)"
            ]
          },
          "metadata": {},
          "execution_count": 17
        }
      ]
    },
    {
      "cell_type": "code",
      "source": [
        "train = data[:training_data_len]\n",
        "\n",
        "valid = data[training_data_len:].copy().astype('float32')\n",
        "\n",
        "valid['Predictions'] = predictions"
      ],
      "metadata": {
        "id": "0BYmBfM2dBJn"
      },
      "execution_count": null,
      "outputs": []
    },
    {
      "cell_type": "code",
      "source": [
        "valid.plot()"
      ],
      "metadata": {
        "colab": {
          "base_uri": "https://localhost:8080/",
          "height": 295
        },
        "id": "BpcQUSC6dCX4",
        "outputId": "0ee5fb1c-2123-406c-815d-5dc3d772d5fb"
      },
      "execution_count": null,
      "outputs": [
        {
          "output_type": "execute_result",
          "data": {
            "text/plain": [
              "<matplotlib.axes._subplots.AxesSubplot at 0x7fe7dea07c90>"
            ]
          },
          "metadata": {},
          "execution_count": 19
        },
        {
          "output_type": "display_data",
          "data": {
            "text/plain": [
              "<Figure size 432x288 with 1 Axes>"
            ],
            "image/png": "[encoded data removed]"
          },
          "metadata": {
            "needs_background": "light"
          }
        }
      ]
    },
    {
      "cell_type": "code",
      "source": [
        "plt.figure(figsize=(16,8))\n",
        "\n",
        "plt.title('Model')\n",
        "\n",
        "plt.xlabel('Data', fontsize=18)\n",
        "\n",
        "plt.ylabel('Close Price USE($)', fontsize=18)\n",
        "\n",
        "plt.plot(train['Close'].astype('float32'))\n",
        "\n",
        "plt.plot(valid[['Close', 'Predictions']])\n",
        "\n",
        "plt.legend(['Train', 'Val', 'Predictions'], loc='lower right')\n",
        "\n",
        "plt.show()"
      ],
      "metadata": {
        "colab": {
          "base_uri": "https://localhost:8080/",
          "height": 521
        },
        "id": "sGLCspbkdEQF",
        "outputId": "16fb19e8-ee87-473d-9f3b-fda3d8689398"
      },
      "execution_count": null,
      "outputs": [
        {
          "output_type": "display_data",
          "data": {
            "text/plain": [
              "<Figure size 1152x576 with 1 Axes>"
            ],
            "image/png": "[encoded data removed]"
          },
          "metadata": {
            "needs_background": "light"
          }
        }
      ]
    },
    {
      "cell_type": "code",
      "source": [
        "# 컬럼 ds(YYYY-MM-DD), y(종가 : Close) 구성\n",
        "# 해당 구저의 DateFrame만들기 위한 딕셔너리 선언\n",
        "\n",
        "dic = {\n",
        "    'ds' : datas.index,\n",
        "    'y' : datas.Close\n",
        "}\n",
        "\n",
        "# ds 와 y를 컬럼으로 갖는 데이터 프레임 생성\n",
        "df = pd.DataFrame( dic )\n",
        "\n",
        "#인덱스 초기화(원본 까지 적용)\n",
        "df.reset_index( inplace=True )\n",
        "\n",
        "# 'ds' 컬럼과 중복되는 'Date' 컬럼 제거\n",
        "del df['Date']\n",
        "\n",
        "# 페이스북의 시계열 예측 모델에 사용한 데이터 준비\n",
        "df.head(5)"
      ],
      "metadata": {
        "colab": {
          "base_uri": "https://localhost:8080/",
          "height": 206
        },
        "id": "XExHkAW5djsr",
        "outputId": "d547a935-b377-4b86-a05b-35a29909b936"
      },
      "execution_count": null,
      "outputs": [
        {
          "output_type": "execute_result",
          "data": {
            "text/plain": [
              "          ds      y\n",
              "0 2017-01-02  36100\n",
              "1 2017-01-03  36480\n",
              "2 2017-01-04  36160\n",
              "3 2017-01-05  35560\n",
              "4 2017-01-06  36200"
            ],
            "text/html": [
              "\n",
              "  <div id=\"df-e9498a37-d4ac-4477-be96-55c6f44a819f\">\n",
              "    <div class=\"colab-df-container\">\n",
              "      <div>\n",
              "<style scoped>\n",
              "    .dataframe tbody tr th:only-of-type {\n",
              "        vertical-align: middle;\n",
              "    }\n",
              "\n",
              "    .dataframe tbody tr th {\n",
              "        vertical-align: top;\n",
              "    }\n",
              "\n",
              "    .dataframe thead th {\n",
              "        text-align: right;\n",
              "    }\n",
              "</style>\n",
              "<table border=\"1\" class=\"dataframe\">\n",
              "  <thead>\n",
              "    <tr style=\"text-align: right;\">\n",
              "      <th></th>\n",
              "      <th>ds</th>\n",
              "      <th>y</th>\n",
              "    </tr>\n",
              "  </thead>\n",
              "  <tbody>\n",
              "    <tr>\n",
              "      <th>0</th>\n",
              "      <td>2017-01-02</td>\n",
              "      <td>36100</td>\n",
              "    </tr>\n",
              "    <tr>\n",
              "      <th>1</th>\n",
              "      <td>2017-01-03</td>\n",
              "      <td>36480</td>\n",
              "    </tr>\n",
              "    <tr>\n",
              "      <th>2</th>\n",
              "      <td>2017-01-04</td>\n",
              "      <td>36160</td>\n",
              "    </tr>\n",
              "    <tr>\n",
              "      <th>3</th>\n",
              "      <td>2017-01-05</td>\n",
              "      <td>35560</td>\n",
              "    </tr>\n",
              "    <tr>\n",
              "      <th>4</th>\n",
              "      <td>2017-01-06</td>\n",
              "      <td>36200</td>\n",
              "    </tr>\n",
              "  </tbody>\n",
              "</table>\n",
              "</div>\n",
              "      <button class=\"colab-df-convert\" onclick=\"convertToInteractive('df-e9498a37-d4ac-4477-be96-55c6f44a819f')\"\n",
              "              title=\"Convert this dataframe to an interactive table.\"\n",
              "              style=\"display:none;\">\n",
              "        \n",
              "  <svg xmlns=\"http://www.w3.org/2000/svg\" height=\"24px\"viewBox=\"0 0 24 24\"\n",
              "       width=\"24px\">\n",
              "    <path d=\"M0 0h24v24H0V0z\" fill=\"none\"/>\n",
              "    <path d=\"M18.56 5.44l.94 2.06.94-2.06 2.06-.94-2.06-.94-.94-2.06-.94 2.06-2.06.94zm-11 1L8.5 8.5l.94-2.06 2.06-.94-2.06-.94L8.5 2.5l-.94 2.06-2.06.94zm10 10l.94 2.06.94-2.06 2.06-.94-2.06-.94-.94-2.06-.94 2.06-2.06.94z\"/><path d=\"M17.41 7.96l-1.37-1.37c-.4-.4-.92-.59-1.43-.59-.52 0-1.04.2-1.43.59L10.3 9.45l-7.72 7.72c-.78.78-.78 2.05 0 2.83L4 21.41c.39.39.9.59 1.41.59.51 0 1.02-.2 1.41-.59l7.78-7.78 2.81-2.81c.8-.78.8-2.07 0-2.86zM5.41 20L4 18.59l7.72-7.72 1.47 1.35L5.41 20z\"/>\n",
              "  </svg>\n",
              "      </button>\n",
              "      \n",
              "  <style>\n",
              "    .colab-df-container {\n",
              "      display:flex;\n",
              "      flex-wrap:wrap;\n",
              "      gap: 12px;\n",
              "    }\n",
              "\n",
              "    .colab-df-convert {\n",
              "      background-color: #E8F0FE;\n",
              "      border: none;\n",
              "      border-radius: 50%;\n",
              "      cursor: pointer;\n",
              "      display: none;\n",
              "      fill: #1967D2;\n",
              "      height: 32px;\n",
              "      padding: 0 0 0 0;\n",
              "      width: 32px;\n",
              "    }\n",
              "\n",
              "    .colab-df-convert:hover {\n",
              "      background-color: #E2EBFA;\n",
              "      box-shadow: 0px 1px 2px rgba(60, 64, 67, 0.3), 0px 1px 3px 1px rgba(60, 64, 67, 0.15);\n",
              "      fill: #174EA6;\n",
              "    }\n",
              "\n",
              "    [theme=dark] .colab-df-convert {\n",
              "      background-color: #3B4455;\n",
              "      fill: #D2E3FC;\n",
              "    }\n",
              "\n",
              "    [theme=dark] .colab-df-convert:hover {\n",
              "      background-color: #434B5C;\n",
              "      box-shadow: 0px 1px 3px 1px rgba(0, 0, 0, 0.15);\n",
              "      filter: drop-shadow(0px 1px 2px rgba(0, 0, 0, 0.3));\n",
              "      fill: #FFFFFF;\n",
              "    }\n",
              "  </style>\n",
              "\n",
              "      <script>\n",
              "        const buttonEl =\n",
              "          document.querySelector('#df-e9498a37-d4ac-4477-be96-55c6f44a819f button.colab-df-convert');\n",
              "        buttonEl.style.display =\n",
              "          google.colab.kernel.accessAllowed ? 'block' : 'none';\n",
              "\n",
              "        async function convertToInteractive(key) {\n",
              "          const element = document.querySelector('#df-e9498a37-d4ac-4477-be96-55c6f44a819f');\n",
              "          const dataTable =\n",
              "            await google.colab.kernel.invokeFunction('convertToInteractive',\n",
              "                                                     [key], {});\n",
              "          if (!dataTable) return;\n",
              "\n",
              "          const docLinkHtml = 'Like what you see? Visit the ' +\n",
              "            '<a target=\"_blank\" href=https://colab.research.google.com/notebooks/data_table.ipynb>data table notebook</a>'\n",
              "            + ' to learn more about interactive tables.';\n",
              "          element.innerHTML = '';\n",
              "          dataTable['output_type'] = 'display_data';\n",
              "          await google.colab.output.renderOutput(dataTable, element);\n",
              "          const docLink = document.createElement('div');\n",
              "          docLink.innerHTML = docLinkHtml;\n",
              "          element.appendChild(docLink);\n",
              "        }\n",
              "      </script>\n",
              "    </div>\n",
              "  </div>\n",
              "  "
            ]
          },
          "metadata": {},
          "execution_count": 21
        }
      ]
    },
    {
      "cell_type": "code",
      "source": [
        "# prophet 모듈 세팅\n",
        "from fbprophet import Prophet\n",
        "\n",
        "# Day 단위로 데이터가 구성되어 있으므로, 일 단위 주기성 활성화\n",
        "model = Prophet( daily_seasonality=True ) \n",
        "\n",
        "# 데이터 학습 시작 -> 기계학습\n",
        "model.fit( df )\n",
        "\n",
        "# 주가 예측 위한 날짜 데이터 세팅 -> 기존 데이터 + 향후 7일치 예측값\n",
        "future = model.make_future_dataframe( periods=9 )\n",
        "\n",
        "# 주가 예측\n",
        "forecast = model.predict( future )\n",
        "\n",
        "# forecast.columns ->\n",
        "'''\n",
        "  Index(['ds', 'trend', 'yhat_lower', 'yhat_upper', 'trend_lower', 'trend_upper',\n",
        "       'additive_terms', 'additive_terms_lower', 'additive_terms_upper',\n",
        "       'daily', 'daily_lower', 'daily_upper', 'weekly', 'weekly_lower',\n",
        "       'weekly_upper', 'yearly', 'yearly_lower', 'yearly_upper',\n",
        "       'multiplicative_terms', 'multiplicative_terms_lower',\n",
        "       'multiplicative_terms_upper', 'yhat'],\n",
        "      dtype='object')\n",
        "''' \n",
        "\n",
        "# 필요한 컬럼만 보기\n",
        "forecast[['ds', 'yhat', 'yhat_lower', 'yhat_upper']].tail(10)"
      ],
      "metadata": {
        "id": "anAwKuTYdaCj",
        "colab": {
          "base_uri": "https://localhost:8080/",
          "height": 363
        },
        "outputId": "d855a20c-8e94-4191-d731-e3f2a3988f3f"
      },
      "execution_count": null,
      "outputs": [
        {
          "output_type": "execute_result",
          "data": {
            "text/plain": [
              "             ds          yhat    yhat_lower    yhat_upper\n",
              "1317 2022-05-13  66284.707707  63107.309118  69355.508478\n",
              "1318 2022-05-14  66602.243548  63444.558449  69527.173519\n",
              "1319 2022-05-15  66519.949189  63330.920928  69547.581746\n",
              "1320 2022-05-16  66057.294110  63000.517483  69578.412582\n",
              "1321 2022-05-17  66110.997334  62814.722792  69201.867835\n",
              "1322 2022-05-18  66002.535979  62921.787637  68978.547433\n",
              "1323 2022-05-19  65969.021003  62699.844265  69049.358109\n",
              "1324 2022-05-20  65831.901382  62582.870490  68963.555910\n",
              "1325 2022-05-21  66211.006420  62989.776225  69391.752732\n",
              "1326 2022-05-22  66192.143760  63113.002596  69134.053746"
            ],
            "text/html": [
              "\n",
              "  <div id=\"df-97f7746a-096c-4729-95ab-16c03257cce2\">\n",
              "    <div class=\"colab-df-container\">\n",
              "      <div>\n",
              "<style scoped>\n",
              "    .dataframe tbody tr th:only-of-type {\n",
              "        vertical-align: middle;\n",
              "    }\n",
              "\n",
              "    .dataframe tbody tr th {\n",
              "        vertical-align: top;\n",
              "    }\n",
              "\n",
              "    .dataframe thead th {\n",
              "        text-align: right;\n",
              "    }\n",
              "</style>\n",
              "<table border=\"1\" class=\"dataframe\">\n",
              "  <thead>\n",
              "    <tr style=\"text-align: right;\">\n",
              "      <th></th>\n",
              "      <th>ds</th>\n",
              "      <th>yhat</th>\n",
              "      <th>yhat_lower</th>\n",
              "      <th>yhat_upper</th>\n",
              "    </tr>\n",
              "  </thead>\n",
              "  <tbody>\n",
              "    <tr>\n",
              "      <th>1317</th>\n",
              "      <td>2022-05-13</td>\n",
              "      <td>66284.707707</td>\n",
              "      <td>63107.309118</td>\n",
              "      <td>69355.508478</td>\n",
              "    </tr>\n",
              "    <tr>\n",
              "      <th>1318</th>\n",
              "      <td>2022-05-14</td>\n",
              "      <td>66602.243548</td>\n",
              "      <td>63444.558449</td>\n",
              "      <td>69527.173519</td>\n",
              "    </tr>\n",
              "    <tr>\n",
              "      <th>1319</th>\n",
              "      <td>2022-05-15</td>\n",
              "      <td>66519.949189</td>\n",
              "      <td>63330.920928</td>\n",
              "      <td>69547.581746</td>\n",
              "    </tr>\n",
              "    <tr>\n",
              "      <th>1320</th>\n",
              "      <td>2022-05-16</td>\n",
              "      <td>66057.294110</td>\n",
              "      <td>63000.517483</td>\n",
              "      <td>69578.412582</td>\n",
              "    </tr>\n",
              "    <tr>\n",
              "      <th>1321</th>\n",
              "      <td>2022-05-17</td>\n",
              "      <td>66110.997334</td>\n",
              "      <td>62814.722792</td>\n",
              "      <td>69201.867835</td>\n",
              "    </tr>\n",
              "    <tr>\n",
              "      <th>1322</th>\n",
              "      <td>2022-05-18</td>\n",
              "      <td>66002.535979</td>\n",
              "      <td>62921.787637</td>\n",
              "      <td>68978.547433</td>\n",
              "    </tr>\n",
              "    <tr>\n",
              "      <th>1323</th>\n",
              "      <td>2022-05-19</td>\n",
              "      <td>65969.021003</td>\n",
              "      <td>62699.844265</td>\n",
              "      <td>69049.358109</td>\n",
              "    </tr>\n",
              "    <tr>\n",
              "      <th>1324</th>\n",
              "      <td>2022-05-20</td>\n",
              "      <td>65831.901382</td>\n",
              "      <td>62582.870490</td>\n",
              "      <td>68963.555910</td>\n",
              "    </tr>\n",
              "    <tr>\n",
              "      <th>1325</th>\n",
              "      <td>2022-05-21</td>\n",
              "      <td>66211.006420</td>\n",
              "      <td>62989.776225</td>\n",
              "      <td>69391.752732</td>\n",
              "    </tr>\n",
              "    <tr>\n",
              "      <th>1326</th>\n",
              "      <td>2022-05-22</td>\n",
              "      <td>66192.143760</td>\n",
              "      <td>63113.002596</td>\n",
              "      <td>69134.053746</td>\n",
              "    </tr>\n",
              "  </tbody>\n",
              "</table>\n",
              "</div>\n",
              "      <button class=\"colab-df-convert\" onclick=\"convertToInteractive('df-97f7746a-096c-4729-95ab-16c03257cce2')\"\n",
              "              title=\"Convert this dataframe to an interactive table.\"\n",
              "              style=\"display:none;\">\n",
              "        \n",
              "  <svg xmlns=\"http://www.w3.org/2000/svg\" height=\"24px\"viewBox=\"0 0 24 24\"\n",
              "       width=\"24px\">\n",
              "    <path d=\"M0 0h24v24H0V0z\" fill=\"none\"/>\n",
              "    <path d=\"M18.56 5.44l.94 2.06.94-2.06 2.06-.94-2.06-.94-.94-2.06-.94 2.06-2.06.94zm-11 1L8.5 8.5l.94-2.06 2.06-.94-2.06-.94L8.5 2.5l-.94 2.06-2.06.94zm10 10l.94 2.06.94-2.06 2.06-.94-2.06-.94-.94-2.06-.94 2.06-2.06.94z\"/><path d=\"M17.41 7.96l-1.37-1.37c-.4-.4-.92-.59-1.43-.59-.52 0-1.04.2-1.43.59L10.3 9.45l-7.72 7.72c-.78.78-.78 2.05 0 2.83L4 21.41c.39.39.9.59 1.41.59.51 0 1.02-.2 1.41-.59l7.78-7.78 2.81-2.81c.8-.78.8-2.07 0-2.86zM5.41 20L4 18.59l7.72-7.72 1.47 1.35L5.41 20z\"/>\n",
              "  </svg>\n",
              "      </button>\n",
              "      \n",
              "  <style>\n",
              "    .colab-df-container {\n",
              "      display:flex;\n",
              "      flex-wrap:wrap;\n",
              "      gap: 12px;\n",
              "    }\n",
              "\n",
              "    .colab-df-convert {\n",
              "      background-color: #E8F0FE;\n",
              "      border: none;\n",
              "      border-radius: 50%;\n",
              "      cursor: pointer;\n",
              "      display: none;\n",
              "      fill: #1967D2;\n",
              "      height: 32px;\n",
              "      padding: 0 0 0 0;\n",
              "      width: 32px;\n",
              "    }\n",
              "\n",
              "    .colab-df-convert:hover {\n",
              "      background-color: #E2EBFA;\n",
              "      box-shadow: 0px 1px 2px rgba(60, 64, 67, 0.3), 0px 1px 3px 1px rgba(60, 64, 67, 0.15);\n",
              "      fill: #174EA6;\n",
              "    }\n",
              "\n",
              "    [theme=dark] .colab-df-convert {\n",
              "      background-color: #3B4455;\n",
              "      fill: #D2E3FC;\n",
              "    }\n",
              "\n",
              "    [theme=dark] .colab-df-convert:hover {\n",
              "      background-color: #434B5C;\n",
              "      box-shadow: 0px 1px 3px 1px rgba(0, 0, 0, 0.15);\n",
              "      filter: drop-shadow(0px 1px 2px rgba(0, 0, 0, 0.3));\n",
              "      fill: #FFFFFF;\n",
              "    }\n",
              "  </style>\n",
              "\n",
              "      <script>\n",
              "        const buttonEl =\n",
              "          document.querySelector('#df-97f7746a-096c-4729-95ab-16c03257cce2 button.colab-df-convert');\n",
              "        buttonEl.style.display =\n",
              "          google.colab.kernel.accessAllowed ? 'block' : 'none';\n",
              "\n",
              "        async function convertToInteractive(key) {\n",
              "          const element = document.querySelector('#df-97f7746a-096c-4729-95ab-16c03257cce2');\n",
              "          const dataTable =\n",
              "            await google.colab.kernel.invokeFunction('convertToInteractive',\n",
              "                                                     [key], {});\n",
              "          if (!dataTable) return;\n",
              "\n",
              "          const docLinkHtml = 'Like what you see? Visit the ' +\n",
              "            '<a target=\"_blank\" href=https://colab.research.google.com/notebooks/data_table.ipynb>data table notebook</a>'\n",
              "            + ' to learn more about interactive tables.';\n",
              "          element.innerHTML = '';\n",
              "          dataTable['output_type'] = 'display_data';\n",
              "          await google.colab.output.renderOutput(dataTable, element);\n",
              "          const docLink = document.createElement('div');\n",
              "          docLink.innerHTML = docLinkHtml;\n",
              "          element.appendChild(docLink);\n",
              "        }\n",
              "      </script>\n",
              "    </div>\n",
              "  </div>\n",
              "  "
            ]
          },
          "metadata": {},
          "execution_count": 22
        }
      ]
    }
  ]
}